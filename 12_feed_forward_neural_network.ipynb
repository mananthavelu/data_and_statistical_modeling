{
  "nbformat": 4,
  "nbformat_minor": 0,
  "metadata": {
    "colab": {
      "provenance": [],
      "toc_visible": true,
      "gpuType": "T4",
      "authorship_tag": "ABX9TyMA381gCX6SqKt9G7E6vjTS",
      "include_colab_link": true
    },
    "kernelspec": {
      "name": "python3",
      "display_name": "Python 3"
    },
    "language_info": {
      "name": "python"
    },
    "accelerator": "GPU"
  },
  "cells": [
    {
      "cell_type": "markdown",
      "metadata": {
        "id": "view-in-github",
        "colab_type": "text"
      },
      "source": [
        "<a href=\"https://colab.research.google.com/github/mananthavelu/data_and_statistical_modeling/blob/main/Feed_Forward_neural_network.ipynb\" target=\"_parent\"><img src=\"https://colab.research.google.com/assets/colab-badge.svg\" alt=\"Open In Colab\"/></a>"
      ]
    },
    {
      "cell_type": "markdown",
      "source": [
        "# Tensor Basics"
      ],
      "metadata": {
        "id": "NqXVFUCvUZ-f"
      }
    },
    {
      "cell_type": "code",
      "execution_count": 14,
      "metadata": {
        "colab": {
          "base_uri": "https://localhost:8080/"
        },
        "id": "1nz7sLnaEUzj",
        "outputId": "679bb6e5-db6e-41e9-b689-5e17505c512e"
      },
      "outputs": [
        {
          "output_type": "stream",
          "name": "stdout",
          "text": [
            "tensor([1, 2, 3, 4, 5])\n",
            "tensor(2)\n",
            "<class 'torch.Tensor'>\n"
          ]
        }
      ],
      "source": [
        "# 0D - 1,2, 0.5\n",
        "# 1D  - [1,2,3,4,5]\n",
        "# 2D - [[1,2,3],[4,5,6]]\n",
        "# Data type - int, float, double, long, short, byte\n",
        "import torch\n",
        "import numpy as np\n",
        "\n",
        "a = torch.tensor([1,2,3,4,5])\n",
        "print(a)\n",
        "print(a[1])\n",
        "print(type(a))"
      ]
    },
    {
      "cell_type": "code",
      "source": [
        "b = a.type(torch.float)\n",
        "print(a.ndimension())\n",
        "print(a.size())"
      ],
      "metadata": {
        "colab": {
          "base_uri": "https://localhost:8080/"
        },
        "id": "zhXGbhy4Vnoo",
        "outputId": "8c910d09-d540-481c-ee1e-d04396dbeb63"
      },
      "execution_count": 15,
      "outputs": [
        {
          "output_type": "stream",
          "name": "stdout",
          "text": [
            "1\n",
            "torch.Size([5])\n"
          ]
        }
      ]
    },
    {
      "cell_type": "markdown",
      "source": [
        "# Tensor  - with numpy array and pandas series"
      ],
      "metadata": {
        "id": "uEz8zPbfUiGY"
      }
    },
    {
      "cell_type": "code",
      "source": [
        "# Create Tensor from numpy array\n",
        "numpy_array = np.array([1,2,3])\n",
        "tensor_vector = torch.from_numpy(numpy_array)\n",
        "print(type(numpy_array))\n",
        "print(type(tensor_vector))\n",
        "\n",
        "#Back to numpy array\n",
        "np_array = tensor_vector.numpy()\n",
        "print(type(np_array))\n",
        "\n",
        "# From pandas series\n",
        "import pandas as pd\n",
        "pd_series = pd.Series([2,4,5, 0.2])\n",
        "tensor_fr_series = torch.from_numpy(pd_series.values)\n",
        "print(tensor_fr_series.dtype)\n",
        "print(tensor_fr_series.type())"
      ],
      "metadata": {
        "colab": {
          "base_uri": "https://localhost:8080/"
        },
        "id": "s6dAlpahT6ju",
        "outputId": "e153deb9-f939-48d3-e263-c974ef22e79b"
      },
      "execution_count": 16,
      "outputs": [
        {
          "output_type": "stream",
          "name": "stdout",
          "text": [
            "<class 'numpy.ndarray'>\n",
            "<class 'torch.Tensor'>\n",
            "<class 'numpy.ndarray'>\n",
            "torch.float64\n",
            "torch.DoubleTensor\n"
          ]
        }
      ]
    },
    {
      "cell_type": "code",
      "source": [
        "a = torch.Tensor([1,2,3,4,5])\n",
        "a_col = a.view(5,1)\n",
        "print(a_col)\n",
        "print(a_col.size())\n",
        "print(a_col.ndimension())"
      ],
      "metadata": {
        "colab": {
          "base_uri": "https://localhost:8080/"
        },
        "id": "Rpg3m_7BFqd4",
        "outputId": "861d92c8-8042-4b93-9118-c0359c69f491"
      },
      "execution_count": 17,
      "outputs": [
        {
          "output_type": "stream",
          "name": "stdout",
          "text": [
            "tensor([[1.],\n",
            "        [2.],\n",
            "        [3.],\n",
            "        [4.],\n",
            "        [5.]])\n",
            "torch.Size([5, 1])\n",
            "2\n"
          ]
        }
      ]
    },
    {
      "cell_type": "markdown",
      "source": [
        "# Tensor operations"
      ],
      "metadata": {
        "id": "B8-m21-3V523"
      }
    },
    {
      "cell_type": "code",
      "source": [
        "# Vector additions\n",
        "u = torch.Tensor([1,3])\n",
        "v = torch.Tensor([2,4])\n",
        "print(u+v)\n",
        "\n",
        "# Adding constant to a Tensor/Broadcasting\n",
        "u = torch.tensor([1,2,4])\n",
        "v = u + 1\n",
        "print(v)\n",
        "\n",
        "# Vector multiplication with a scalar\n",
        "x = torch.Tensor([1,2])\n",
        "y = torch.Tensor([3,15])\n",
        "z = u + v\n",
        "print(x*y)\n",
        "print(x*2)\n",
        "print(x.T)\n",
        "print(x.size())\n",
        "print(x.T)\n",
        "print(x.T.size())\n",
        "print(x.T*y)\n",
        "print(x.T.dot(y))\n",
        "print(torch.dot(x,y))\n",
        "\n"
      ],
      "metadata": {
        "colab": {
          "base_uri": "https://localhost:8080/"
        },
        "id": "OOd8W3G-V0MY",
        "outputId": "8c53d430-b891-45e5-f4a7-03fb643b3590"
      },
      "execution_count": 18,
      "outputs": [
        {
          "output_type": "stream",
          "name": "stdout",
          "text": [
            "tensor([3., 7.])\n",
            "tensor([2, 3, 5])\n",
            "tensor([ 3., 30.])\n",
            "tensor([2., 4.])\n",
            "tensor([1., 2.])\n",
            "torch.Size([2])\n",
            "tensor([1., 2.])\n",
            "torch.Size([2])\n",
            "tensor([ 3., 30.])\n",
            "tensor(33.)\n",
            "tensor(33.)\n"
          ]
        }
      ]
    },
    {
      "cell_type": "markdown",
      "source": [
        "# Applying Torch functions"
      ],
      "metadata": {
        "id": "YJSk-PC_WIuW"
      }
    },
    {
      "cell_type": "code",
      "source": [
        "# torch functions\n",
        "sin_u = torch.sin(u)\n",
        "print(sin_u)\n",
        "print(x.mean())\n",
        "print(x.max())\n",
        "\n",
        "\n",
        "# We can also apply functions to Tensors\n",
        "print(torch.linspace(-2,2,steps = 5))# returns evenly spaced numbers"
      ],
      "metadata": {
        "colab": {
          "base_uri": "https://localhost:8080/"
        },
        "id": "fvg6sqfqUEin",
        "outputId": "7696e527-853c-49a8-83ff-c5418d2629a8"
      },
      "execution_count": 20,
      "outputs": [
        {
          "output_type": "stream",
          "name": "stdout",
          "text": [
            "tensor([ 0.8415,  0.9093, -0.7568])\n",
            "tensor(1.5000)\n",
            "tensor(2.)\n",
            "tensor([-2., -1.,  0.,  1.,  2.])\n"
          ]
        }
      ]
    },
    {
      "cell_type": "code",
      "source": [
        "# Plot values\n",
        "import matplotlib.pyplot as plt\n",
        "\n",
        "plt.plot(u.numpy(), sin_u.numpy())\n",
        "plt.show()"
      ],
      "metadata": {
        "colab": {
          "base_uri": "https://localhost:8080/",
          "height": 430
        },
        "id": "wYGrZxcpWAov",
        "outputId": "01f7ed3c-fa7d-4e5a-a744-a50ddb1c5cd2"
      },
      "execution_count": 21,
      "outputs": [
        {
          "output_type": "display_data",
          "data": {
            "text/plain": [
              "<Figure size 640x480 with 1 Axes>"
            ],
            "image/png": "[encoded data removed]"
          },
          "metadata": {}
        }
      ]
    },
    {
      "cell_type": "code",
      "source": [],
      "metadata": {
        "id": "G4eXKCZyHqwX"
      },
      "execution_count": null,
      "outputs": []
    }
  ]
}