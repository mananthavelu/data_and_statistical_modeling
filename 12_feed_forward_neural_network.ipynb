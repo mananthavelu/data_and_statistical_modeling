{
  "cells": [
    {
      "cell_type": "markdown",
      "metadata": {
        "id": "view-in-github",
        "colab_type": "text"
      },
      "source": [
        "<a href=\"https://colab.research.google.com/github/mananthavelu/data_and_statistical_modeling/blob/main/12_feed_forward_neural_network.ipynb\" target=\"_parent\"><img src=\"https://colab.research.google.com/assets/colab-badge.svg\" alt=\"Open In Colab\"/></a>"
      ]
    },
    {
      "cell_type": "markdown",
      "metadata": {
        "id": "NqXVFUCvUZ-f"
      },
      "source": [
        "#### Tensor Basics"
      ]
    },
    {
      "cell_type": "code",
      "execution_count": 4,
      "metadata": {
        "colab": {
          "base_uri": "https://localhost:8080/"
        },
        "id": "1nz7sLnaEUzj",
        "outputId": "578bdc7a-0d47-4337-e07b-65b018987518"
      },
      "outputs": [
        {
          "output_type": "stream",
          "name": "stdout",
          "text": [
            "tensor([1, 2, 3, 4, 5])\n",
            "tensor(2)\n",
            "<class 'torch.Tensor'>\n"
          ]
        }
      ],
      "source": [
        "# 0D - 1,2, 0.5\n",
        "# 1D  - [1,2,3,4,5]\n",
        "# 2D - [[1,2,3],[4,5,6]]\n",
        "# Data type - int, float, double, long, short, byte\n",
        "import torch\n",
        "import numpy as np\n",
        "\n",
        "a = torch.tensor([1,2,3,4,5])\n",
        "print(a)\n",
        "print(a[1])\n",
        "print(type(a))"
      ]
    },
    {
      "cell_type": "code",
      "execution_count": 2,
      "metadata": {
        "colab": {
          "base_uri": "https://localhost:8080/"
        },
        "id": "zhXGbhy4Vnoo",
        "outputId": "b1addbe6-b415-4349-9ad1-2d2ab6feeb69"
      },
      "outputs": [
        {
          "output_type": "stream",
          "name": "stdout",
          "text": [
            "1\n",
            "torch.Size([5])\n"
          ]
        }
      ],
      "source": [
        "b = a.type(torch.float)\n",
        "print(a.ndimension())\n",
        "print(a.size())"
      ]
    },
    {
      "cell_type": "markdown",
      "metadata": {
        "id": "uEz8zPbfUiGY"
      },
      "source": [
        "#### Tensor  - with numpy array and pandas series"
      ]
    },
    {
      "cell_type": "code",
      "execution_count": null,
      "metadata": {
        "colab": {
          "base_uri": "https://localhost:8080/"
        },
        "id": "s6dAlpahT6ju",
        "outputId": "e153deb9-f939-48d3-e263-c974ef22e79b"
      },
      "outputs": [
        {
          "name": "stdout",
          "output_type": "stream",
          "text": [
            "<class 'numpy.ndarray'>\n",
            "<class 'torch.Tensor'>\n",
            "<class 'numpy.ndarray'>\n",
            "torch.float64\n",
            "torch.DoubleTensor\n"
          ]
        }
      ],
      "source": [
        "# Create Tensor from numpy array\n",
        "numpy_array = np.array([1,2,3])\n",
        "tensor_vector = torch.from_numpy(numpy_array)\n",
        "print(type(numpy_array))\n",
        "print(type(tensor_vector))\n",
        "\n",
        "#Back to numpy array\n",
        "np_array = tensor_vector.numpy()\n",
        "print(type(np_array))\n",
        "\n",
        "# From pandas series\n",
        "import pandas as pd\n",
        "pd_series = pd.Series([2,4,5, 0.2])\n",
        "tensor_fr_series = torch.from_numpy(pd_series.values)\n",
        "print(tensor_fr_series.dtype)\n",
        "print(tensor_fr_series.type())"
      ]
    },
    {
      "cell_type": "code",
      "execution_count": null,
      "metadata": {
        "colab": {
          "base_uri": "https://localhost:8080/"
        },
        "id": "Rpg3m_7BFqd4",
        "outputId": "861d92c8-8042-4b93-9118-c0359c69f491"
      },
      "outputs": [
        {
          "name": "stdout",
          "output_type": "stream",
          "text": [
            "tensor([[1.],\n",
            "        [2.],\n",
            "        [3.],\n",
            "        [4.],\n",
            "        [5.]])\n",
            "torch.Size([5, 1])\n",
            "2\n"
          ]
        }
      ],
      "source": [
        "a = torch.Tensor([1,2,3,4,5])\n",
        "a_col = a.view(5,1)\n",
        "print(a_col)\n",
        "print(a_col.size())\n",
        "print(a_col.ndimension())"
      ]
    },
    {
      "cell_type": "markdown",
      "metadata": {
        "id": "B8-m21-3V523"
      },
      "source": [
        "#### Tensor operations"
      ]
    },
    {
      "cell_type": "code",
      "execution_count": null,
      "metadata": {
        "colab": {
          "base_uri": "https://localhost:8080/"
        },
        "id": "OOd8W3G-V0MY",
        "outputId": "8c53d430-b891-45e5-f4a7-03fb643b3590"
      },
      "outputs": [
        {
          "name": "stdout",
          "output_type": "stream",
          "text": [
            "tensor([3., 7.])\n",
            "tensor([2, 3, 5])\n",
            "tensor([ 3., 30.])\n",
            "tensor([2., 4.])\n",
            "tensor([1., 2.])\n",
            "torch.Size([2])\n",
            "tensor([1., 2.])\n",
            "torch.Size([2])\n",
            "tensor([ 3., 30.])\n",
            "tensor(33.)\n",
            "tensor(33.)\n"
          ]
        },
        {
          "name": "stderr",
          "output_type": "stream",
          "text": [
            "C:\\Users\\32470\\AppData\\Local\\Temp\\ipykernel_12516\\2943338211.py:17: UserWarning: The use of `x.T` on tensors of dimension other than 2 to reverse their shape is deprecated and it will throw an error in a future release. Consider `x.mT` to transpose batches of matrices or `x.permute(*torch.arange(x.ndim - 1, -1, -1))` to reverse the dimensions of a tensor. (Triggered internally at ..\\aten\\src\\ATen\\native\\TensorShape.cpp:3641.)\n",
            "  print(x.T)\n"
          ]
        }
      ],
      "source": [
        "# Vector additions\n",
        "u = torch.Tensor([1,3])\n",
        "v = torch.Tensor([2,4])\n",
        "print(u+v)\n",
        "\n",
        "# Adding constant to a Tensor/Broadcasting\n",
        "u = torch.tensor([1,2,4])\n",
        "v = u + 1\n",
        "print(v)\n",
        "\n",
        "# Vector multiplication with a scalar\n",
        "x = torch.Tensor([1,2])\n",
        "y = torch.Tensor([3,15])\n",
        "z = u + v\n",
        "print(x*y)\n",
        "print(x*2)\n",
        "print(x.T)\n",
        "print(x.size())\n",
        "print(x.T)\n",
        "print(x.T.size())\n",
        "print(x.T*y)\n",
        "print(x.T.dot(y))\n",
        "print(torch.dot(x,y))\n",
        "\n"
      ]
    },
    {
      "cell_type": "markdown",
      "metadata": {
        "id": "YJSk-PC_WIuW"
      },
      "source": [
        "#### Applying Torch functions"
      ]
    },
    {
      "cell_type": "code",
      "execution_count": null,
      "metadata": {
        "colab": {
          "base_uri": "https://localhost:8080/"
        },
        "id": "fvg6sqfqUEin",
        "outputId": "7696e527-853c-49a8-83ff-c5418d2629a8"
      },
      "outputs": [
        {
          "name": "stdout",
          "output_type": "stream",
          "text": [
            "tensor([ 0.8415,  0.9093, -0.7568])\n",
            "tensor(1.5000)\n",
            "tensor(2.)\n",
            "tensor([-2., -1.,  0.,  1.,  2.])\n"
          ]
        }
      ],
      "source": [
        "# torch functions\n",
        "sin_u = torch.sin(u)\n",
        "print(sin_u)\n",
        "print(x.mean())\n",
        "print(x.max())\n",
        "\n",
        "\n",
        "# We can also apply functions to Tensors\n",
        "print(torch.linspace(-2,2,steps = 5))# returns evenly spaced numbers"
      ]
    },
    {
      "cell_type": "code",
      "execution_count": null,
      "metadata": {
        "colab": {
          "base_uri": "https://localhost:8080/",
          "height": 430
        },
        "id": "wYGrZxcpWAov",
        "outputId": "01f7ed3c-fa7d-4e5a-a744-a50ddb1c5cd2"
      },
      "outputs": [
        {
          "data": {
            "image/png": "[encoded data removed]",
            "text/plain": [
              "<Figure size 640x480 with 1 Axes>"
            ]
          },
          "metadata": {},
          "output_type": "display_data"
        }
      ],
      "source": [
        "# Plot values\n",
        "import matplotlib.pyplot as plt\n",
        "\n",
        "plt.plot(u.numpy(), sin_u.numpy())\n",
        "plt.show()"
      ]
    },
    {
      "cell_type": "code",
      "execution_count": null,
      "metadata": {
        "id": "G4eXKCZyHqwX",
        "outputId": "74e6b6e7-d640-45dc-8890-361e52f83e2e"
      },
      "outputs": [
        {
          "name": "stdout",
          "output_type": "stream",
          "text": [
            "tensor([[11, 12, 13],\n",
            "        [21, 22, 23],\n",
            "        [31, 32, 33]])\n",
            "2\n",
            "torch.Size([3, 3])\n",
            "torch.Size([3, 3])\n",
            "9\n",
            "Indexing and slicing\n",
            "tensor(31)\n",
            "tensor(31)\n",
            "tensor([11, 12])\n",
            "tensor([23])\n"
          ]
        }
      ],
      "source": [
        "# Two dimensional tensors\n",
        "\n",
        "a = [[11,12,13],[21,22,23],[31,32,33]]\n",
        "b = [[1,2],[2,4,]]\n",
        "c = [[0,3],[6,1,]]\n",
        "A = torch.tensor(a)\n",
        "\n",
        "print(A)\n",
        "print(A.ndimension())#Gives the number of dimensions\n",
        "print(A.shape)\n",
        "print(A.size())\n",
        "print(A.numel())\n",
        "\n",
        "\n",
        "#Indexing and slicing\n",
        "print(\"Indexing and slicing\")\n",
        "print(A[2][0])#2nd row, 0th column\n",
        "print(A[2,0])#2nd row, 0th column\n",
        "print(A[0,0:2])#Slice 0th row for columns 0 to 2 (excluding)\n",
        "print(A[1:2,2])#Slice rows 1 to 3 (excluding) for columns 2"
      ]
    },
    {
      "cell_type": "code",
      "execution_count": null,
      "metadata": {
        "id": "IB8nGnf_aIt-",
        "outputId": "411f80d5-2303-4f86-94fc-0d1389ac680b"
      },
      "outputs": [
        {
          "name": "stdout",
          "output_type": "stream",
          "text": [
            "tensor([[1, 2],\n",
            "        [2, 4]])\n",
            "tensor([[0, 3],\n",
            "        [6, 1]])\n",
            "tensor([[1, 5],\n",
            "        [8, 5]])\n",
            "Multiplication\n",
            "tensor([[2, 4],\n",
            "        [4, 8]])\n"
          ]
        }
      ],
      "source": [
        "# Tensor operations\n",
        "B  = torch.tensor(b)\n",
        "C  = torch.tensor(c)\n",
        "\n",
        "# Addition\n",
        "print(B)\n",
        "print(C)\n",
        "print(B+C)\n",
        "\n",
        "#Multiplication\n",
        "print(\"Multiplication\")\n",
        "print(2*B)"
      ]
    },
    {
      "cell_type": "markdown",
      "metadata": {
        "id": "d-eYlPoDaIt_"
      },
      "source": [
        "#### Differentiation in PyTorch"
      ]
    },
    {
      "cell_type": "code",
      "execution_count": null,
      "metadata": {
        "id": "AD7BAkdoaIt_",
        "outputId": "36b16ca9-24f2-4046-e123-992fe15c0f8e"
      },
      "outputs": [
        {
          "name": "stdout",
          "output_type": "stream",
          "text": [
            "tensor(2., requires_grad=True)\n"
          ]
        },
        {
          "data": {
            "text/plain": [
              "0"
            ]
          },
          "execution_count": 85,
          "metadata": {},
          "output_type": "execute_result"
        }
      ],
      "source": [
        "# Create a tensor\n",
        "\n",
        "x = torch.tensor(2.0, requires_grad=True)\n",
        "print(x)\n",
        "x.shape\n",
        "x.size()\n",
        "x.ndimension()\n",
        "x.ndim"
      ]
    },
    {
      "cell_type": "code",
      "execution_count": null,
      "metadata": {
        "id": "ONvClixUaIt_",
        "outputId": "4621b6e8-b01a-4f3b-fd20-7736ac8a01e6"
      },
      "outputs": [
        {
          "name": "stdout",
          "output_type": "stream",
          "text": [
            "tensor(4., grad_fn=<PowBackward0>)\n",
            "0\n",
            "None\n"
          ]
        }
      ],
      "source": [
        "# Equation\n",
        "y = x**2\n",
        "print(y)\n",
        "print(y.ndim)\n",
        "print(x.grad)"
      ]
    },
    {
      "cell_type": "code",
      "execution_count": null,
      "metadata": {
        "id": "6TlpcIWIaIt_"
      },
      "outputs": [],
      "source": [
        "y.backward()"
      ]
    },
    {
      "cell_type": "code",
      "execution_count": null,
      "metadata": {
        "id": "UHfwCFCIaIt_",
        "outputId": "aec7adea-af47-4c63-adec-c8b0788778ae"
      },
      "outputs": [
        {
          "data": {
            "text/plain": [
              "tensor(4.)"
            ]
          },
          "execution_count": 88,
          "metadata": {},
          "output_type": "execute_result"
        }
      ],
      "source": [
        "x.grad"
      ]
    },
    {
      "cell_type": "code",
      "execution_count": null,
      "metadata": {
        "id": "LeKPJBL9aIt_",
        "outputId": "5e552731-121a-49ba-87c2-de2ca39e53f9"
      },
      "outputs": [
        {
          "name": "stdout",
          "output_type": "stream",
          "text": [
            "tensor(2., requires_grad=True)\n",
            "tensor(4., grad_fn=<PowBackward0>)\n"
          ]
        }
      ],
      "source": [
        "print(x)\n",
        "print(y)"
      ]
    },
    {
      "cell_type": "code",
      "execution_count": null,
      "metadata": {
        "id": "JyjMATyvaIt_",
        "outputId": "4e61d189-5158-4cfb-e0c0-883e1b0ff6fc"
      },
      "outputs": [
        {
          "name": "stdout",
          "output_type": "stream",
          "text": [
            "data: tensor(2.)\n",
            "grad_fn: None\n",
            "grad: tensor(4.)\n",
            "is_leaf: True\n",
            "requires_grad: True\n"
          ]
        }
      ],
      "source": [
        "print('data:',x.data)\n",
        "print('grad_fn:',x.grad_fn)\n",
        "print('grad:',x.grad)\n",
        "print(\"is_leaf:\",x.is_leaf)\n",
        "print(\"requires_grad:\",x.requires_grad)"
      ]
    },
    {
      "cell_type": "code",
      "execution_count": null,
      "metadata": {
        "id": "OTl0Wd5xaIt_",
        "outputId": "12306b19-35b0-4b14-d7f5-a2373942fddd"
      },
      "outputs": [
        {
          "name": "stdout",
          "output_type": "stream",
          "text": [
            "data: tensor(4.)\n",
            "grad_fn: <PowBackward0 object at 0x000001FE07FDEC50>\n",
            "grad: None\n",
            "is_leaf: False\n",
            "requires_grad: True\n"
          ]
        },
        {
          "name": "stderr",
          "output_type": "stream",
          "text": [
            "C:\\Users\\32470\\AppData\\Local\\Temp\\ipykernel_12516\\1355624623.py:3: UserWarning: The .grad attribute of a Tensor that is not a leaf Tensor is being accessed. Its .grad attribute won't be populated during autograd.backward(). If you indeed want the .grad field to be populated for a non-leaf Tensor, use .retain_grad() on the non-leaf Tensor. If you access the non-leaf Tensor by mistake, make sure you access the leaf Tensor instead. See github.com/pytorch/pytorch/pull/30531 for more informations. (Triggered internally at aten\\src\\ATen/core/TensorBody.h:494.)\n",
            "  print('grad:',y.grad)\n"
          ]
        }
      ],
      "source": [
        "print('data:',y.data)\n",
        "print('grad_fn:',y.grad_fn)\n",
        "print('grad:',y.grad)\n",
        "print(\"is_leaf:\",y.is_leaf)\n",
        "print(\"requires_grad:\",y.requires_grad)"
      ]
    },
    {
      "cell_type": "code",
      "execution_count": null,
      "metadata": {
        "id": "H9HnOLyxaIuA",
        "outputId": "613f117e-800b-4d02-eca1-4fb78bf0ac95"
      },
      "outputs": [
        {
          "name": "stdout",
          "output_type": "stream",
          "text": [
            "The result of y = x^2 + 2x + 1:  tensor(9., grad_fn=<AddBackward0>)\n",
            "The dervative at x = 2:  tensor(6.)\n"
          ]
        }
      ],
      "source": [
        "# Calculate the y = x^2 + 2x + 1, then find the derivative\n",
        "\n",
        "x = torch.tensor(2.0, requires_grad = True)\n",
        "y = x ** 2 + 2 * x + 1\n",
        "print(\"The result of y = x^2 + 2x + 1: \", y)\n",
        "y.backward()\n",
        "print(\"The dervative at x = 2: \", x.grad)"
      ]
    },
    {
      "cell_type": "code",
      "execution_count": null,
      "metadata": {
        "id": "5tKELDgHaIuA"
      },
      "outputs": [],
      "source": [
        "# Practice: Calculate the derivative of y = 2x^3 + x at x = 1\n",
        "x = torch.tensor(1.0, requires_grad = True)\n",
        "y = 2*x**3 + x\n",
        "y.backward()\n",
        "\n",
        "# Type your code here"
      ]
    },
    {
      "cell_type": "code",
      "execution_count": null,
      "metadata": {
        "id": "ItaaCWrxaIuA",
        "outputId": "35fff423-e19d-46fd-ca8b-062aba3f6ae5"
      },
      "outputs": [
        {
          "data": {
            "text/plain": [
              "tensor(7.)"
            ]
          },
          "execution_count": 94,
          "metadata": {},
          "output_type": "execute_result"
        }
      ],
      "source": [
        "x.grad"
      ]
    },
    {
      "cell_type": "code",
      "execution_count": 6,
      "metadata": {
        "id": "Qu8-lqRWaIuA"
      },
      "outputs": [],
      "source": [
        "# Buiding a NN model\n",
        "import torch\n",
        "from torch import nn\n",
        "from torch.utils.data import DataLoader\n",
        "from torchvision import datasets\n",
        "from torchvision.transforms import ToTensor\n"
      ]
    },
    {
      "cell_type": "code",
      "source": [
        "# Doanloading the training ata from open datasets\n",
        "\n",
        "training_data = datasets.FashionMNIST(\n",
        "    root = \"data\",\n",
        "    train = True,\n",
        "    download = True,\n",
        "    transform = ToTensor(),\n",
        ")"
      ],
      "metadata": {
        "colab": {
          "base_uri": "https://localhost:8080/"
        },
        "id": "LSJbLVcwbgn5",
        "outputId": "5ebb06be-101c-4ebc-eb84-e69f4e4b9792"
      },
      "execution_count": 7,
      "outputs": [
        {
          "output_type": "stream",
          "name": "stderr",
          "text": [
            "100%|██████████| 26.4M/26.4M [00:01<00:00, 15.2MB/s]\n",
            "100%|██████████| 29.5k/29.5k [00:00<00:00, 307kB/s]\n",
            "100%|██████████| 4.42M/4.42M [00:00<00:00, 5.48MB/s]\n",
            "100%|██████████| 5.15k/5.15k [00:00<00:00, 10.5MB/s]\n"
          ]
        }
      ]
    },
    {
      "cell_type": "code",
      "source": [
        "# Doanload the test data from open datasets\n",
        "\n",
        "test_data = datasets.FashionMNIST(\n",
        "    root = \"data\",\n",
        "    train = False,\n",
        "    download = True,\n",
        "    transform = ToTensor(),\n",
        ")"
      ],
      "metadata": {
        "id": "GI-ZV4jDbzXZ"
      },
      "execution_count": 8,
      "outputs": []
    },
    {
      "cell_type": "code",
      "source": [
        "batch_size = 64\n",
        "\n",
        "# Create data loaders\n",
        "\n",
        "train_dataloader = DataLoader(training_data, batch_size = batch_size)\n",
        "test_dataloader = DataLoader(test_data, batch_size = batch_size)\n",
        "\n",
        "for X, y in test_dataloader:\n",
        "  print(f\"Shape of X [N, C, H, W]: {X.shape}\")\n",
        "  print(f\"Shape of y: {y.shape} {y.dtype}\")\n",
        "  break\n",
        ""
      ],
      "metadata": {
        "colab": {
          "base_uri": "https://localhost:8080/"
        },
        "id": "aTBJN480cDC5",
        "outputId": "63d69fe7-ca1e-443d-d067-c24eec3427b9"
      },
      "execution_count": 15,
      "outputs": [
        {
          "output_type": "stream",
          "name": "stdout",
          "text": [
            "Shape of X [N, C, H, W]: torch.Size([64, 1, 28, 28])\n",
            "Shape of y: torch.Size([64]) torch.int64\n"
          ]
        }
      ]
    },
    {
      "cell_type": "code",
      "source": [
        "# Creating models\n",
        "\n"
      ],
      "metadata": {
        "id": "Q7LVfZLRcIXP"
      },
      "execution_count": null,
      "outputs": []
    }
  ],
  "metadata": {
    "accelerator": "GPU",
    "colab": {
      "gpuType": "T4",
      "provenance": [],
      "toc_visible": true,
      "include_colab_link": true
    },
    "kernelspec": {
      "display_name": "Python 3",
      "name": "python3"
    },
    "language_info": {
      "codemirror_mode": {
        "name": "ipython",
        "version": 3
      },
      "file_extension": ".py",
      "mimetype": "text/x-python",
      "name": "python",
      "nbconvert_exporter": "python",
      "pygments_lexer": "ipython3",
      "version": "3.12.2"
    }
  },
  "nbformat": 4,
  "nbformat_minor": 0
}