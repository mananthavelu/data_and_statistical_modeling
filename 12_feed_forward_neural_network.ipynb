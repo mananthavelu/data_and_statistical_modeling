{
  "cells": [
    {
      "cell_type": "markdown",
      "metadata": {
        "id": "view-in-github",
        "colab_type": "text"
      },
      "source": [
        "<a href=\"https://colab.research.google.com/github/mananthavelu/data_and_statistical_modeling/blob/main/12_feed_forward_neural_network.ipynb\" target=\"_parent\"><img src=\"https://colab.research.google.com/assets/colab-badge.svg\" alt=\"Open In Colab\"/></a>"
      ]
    },
    {
      "cell_type": "markdown",
      "source": [
        "# Import the necessary libraries, dataset\n",
        "\n"
      ],
      "metadata": {
        "id": "ssXOzxic3CFw"
      }
    },
    {
      "cell_type": "code",
      "execution_count": 1,
      "metadata": {
        "id": "Qu8-lqRWaIuA"
      },
      "outputs": [],
      "source": [
        "# Buiding a NN model\n",
        "import torch\n",
        "from torch import nn\n",
        "from torch.utils.data import DataLoader\n",
        "from torchvision import datasets\n",
        "from torchvision.transforms import ToTensor"
      ]
    },
    {
      "cell_type": "code",
      "source": [
        "# Doanloading the training ata from open datasets\n",
        "training_data = datasets.FashionMNIST(\n",
        "    root = \"data\",\n",
        "    train = True,\n",
        "    download = True,\n",
        "    transform = ToTensor(),\n",
        ")"
      ],
      "metadata": {
        "colab": {
          "base_uri": "https://localhost:8080/"
        },
        "id": "LSJbLVcwbgn5",
        "outputId": "a6492e8a-7b2c-4f4a-d71a-86627f08497c"
      },
      "execution_count": 2,
      "outputs": [
        {
          "output_type": "stream",
          "name": "stderr",
          "text": [
            "100%|██████████| 26.4M/26.4M [00:07<00:00, 3.61MB/s]\n",
            "100%|██████████| 29.5k/29.5k [00:00<00:00, 204kB/s]\n",
            "100%|██████████| 4.42M/4.42M [00:01<00:00, 3.76MB/s]\n",
            "100%|██████████| 5.15k/5.15k [00:00<00:00, 10.4MB/s]\n"
          ]
        }
      ]
    },
    {
      "cell_type": "code",
      "source": [
        "# Doanload the test data from open datasets\n",
        "test_data = datasets.FashionMNIST(\n",
        "    root = \"data\",\n",
        "    train = False,\n",
        "    download = True,\n",
        "    transform = ToTensor(),\n",
        ")"
      ],
      "metadata": {
        "id": "GI-ZV4jDbzXZ"
      },
      "execution_count": 3,
      "outputs": []
    },
    {
      "cell_type": "code",
      "source": [
        "# Define the batch size\n",
        "batch_size = 64\n",
        "\n",
        "# Create data loaders\n",
        "\n",
        "train_dataloader = DataLoader(training_data, batch_size = batch_size)\n",
        "test_dataloader = DataLoader(test_data, batch_size = batch_size)\n",
        "\n",
        "for X, y in test_dataloader:\n",
        "  print(f\"Shape of X [N, C, H, W]: {X.shape}\")\n",
        "  print(f\"Shape of y: {y.shape} {y.dtype}\")\n",
        "  break"
      ],
      "metadata": {
        "colab": {
          "base_uri": "https://localhost:8080/"
        },
        "id": "aTBJN480cDC5",
        "outputId": "ab019f82-2ada-4f80-d4e3-2b6c3222624e"
      },
      "execution_count": 4,
      "outputs": [
        {
          "output_type": "stream",
          "name": "stdout",
          "text": [
            "Shape of X [N, C, H, W]: torch.Size([64, 1, 28, 28])\n",
            "Shape of y: torch.Size([64]) torch.int64\n"
          ]
        }
      ]
    },
    {
      "cell_type": "code",
      "source": [
        "# Creating models\n",
        "# Accelerator usage\n",
        "device = torch.accelerator.current_accelerator().type\\\n",
        "if torch.accelerator.is_available() else \"cpu\"\n",
        "\n",
        "print(\"Device: {device}\")"
      ],
      "metadata": {
        "id": "Q7LVfZLRcIXP",
        "colab": {
          "base_uri": "https://localhost:8080/"
        },
        "outputId": "8c8f42ed-4a7b-433f-82e2-1475b6a6ded3"
      },
      "execution_count": 5,
      "outputs": [
        {
          "output_type": "stream",
          "name": "stdout",
          "text": [
            "Device: {device}\n"
          ]
        }
      ]
    },
    {
      "cell_type": "markdown",
      "source": [
        "# Define the model architecture"
      ],
      "metadata": {
        "id": "0UZpEtA8KZDV"
      }
    },
    {
      "cell_type": "code",
      "source": [
        "# Define the model\n",
        "\n",
        "class NeuralNetwork(nn.Module):\n",
        "  def __init__(self):\n",
        "    super().__init__()\n",
        "    self.flatten = nn.Flatten()\n",
        "    self.linear_relu_stack = nn.Sequential(\n",
        "        nn.Linear(28*28, 512),\n",
        "        nn.ReLU(),\n",
        "        nn.Linear(512,512),\n",
        "        nn.ReLU(),\n",
        "        nn.Linear(512,10)\n",
        "    )\n",
        "  def forward(self,x):\n",
        "    x = self.flatten(x)\n",
        "    logits = self.linear_relu_stack(x)\n",
        "    return logits\n",
        "\n",
        "model = NeuralNetwork().to(device)\n",
        "print(model)"
      ],
      "metadata": {
        "id": "0_hd9ab-OdDu",
        "colab": {
          "base_uri": "https://localhost:8080/"
        },
        "outputId": "da9ec2dd-1144-4b71-e644-6a9f8477f582"
      },
      "execution_count": 17,
      "outputs": [
        {
          "output_type": "stream",
          "name": "stdout",
          "text": [
            "NeuralNetwork(\n",
            "  (flatten): Flatten(start_dim=1, end_dim=-1)\n",
            "  (linear_relu_stack): Sequential(\n",
            "    (0): Linear(in_features=784, out_features=512, bias=True)\n",
            "    (1): ReLU()\n",
            "    (2): Linear(in_features=512, out_features=512, bias=True)\n",
            "    (3): ReLU()\n",
            "    (4): Linear(in_features=512, out_features=10, bias=True)\n",
            "  )\n",
            ")\n"
          ]
        }
      ]
    },
    {
      "cell_type": "markdown",
      "source": [
        "**Optimizing the model parameters**"
      ],
      "metadata": {
        "id": "ewhhP2OkZKoA"
      }
    },
    {
      "cell_type": "code",
      "source": [
        "loss_function = nn.CrossEntropyLoss()# Define the loss function which will drive the optimization\n",
        "optimizer = torch.optim.SGD(model.parameters(),lr = 1e-3)#the optimizer which takes the loss information and updates the weight\n",
        "# Loss function -> Gradients -> Weights adjustments"
      ],
      "metadata": {
        "id": "XclxuANBPTkn"
      },
      "execution_count": 18,
      "outputs": []
    },
    {
      "cell_type": "markdown",
      "source": [
        "# Define the 'Train' method"
      ],
      "metadata": {
        "id": "UXrkIOBSKnKD"
      }
    },
    {
      "cell_type": "code",
      "source": [
        "def train(dataloader, model, loss_function, optimizer):\n",
        "  size = len(dataloader.dataset)# Size of the training dataset\n",
        "  model.train()# Train the model\n",
        "  for batch, (X,y) in enumerate(dataloader):\n",
        "    X, y = X.to(device), y.to(device)\n",
        "\n",
        "    # Compute prediction error\n",
        "    prediction = model(X)\n",
        "    loss = loss_function(prediction, y)\n",
        "\n",
        "    # Backpropagation\n",
        "    loss.backward()# Calculate the gradients and attach it to .grad attribute for each parameter\n",
        "    optimizer.step()# Optimizer has access to params # Update the weights of the model\n",
        "    optimizer.zero_grad()# Reset the gradients to 0 so the gradients from prev. iteration dont accumulate\n",
        "\n",
        "    if batch % 100 == 0:\n",
        "      loss, current = loss.item(), (batch+1)* len(X)\n",
        "      print(f\"loss:{loss:>7f} [{current:>5d}/{size:.>5d}]\")\n"
      ],
      "metadata": {
        "id": "1fb5emICXuY1"
      },
      "execution_count": 19,
      "outputs": []
    },
    {
      "cell_type": "markdown",
      "source": [
        "# Define the 'Test' method"
      ],
      "metadata": {
        "id": "cE-Tw2F-KwWb"
      }
    },
    {
      "cell_type": "code",
      "source": [
        "def test(dataloader, model, loss_function):\n",
        "  size = len(dataloader.dataset)\n",
        "  num_of_batches = len(dataloader)\n",
        "  model.eval()\n",
        "  test_loss, correct = 0, 0\n",
        "  with torch.no_grad():\n",
        "    for X, y in dataloader:\n",
        "      X, y = X.to(device), y.to(device)\n",
        "      predictions = model(X)\n",
        "      test_loss += loss_function(predictions, y).item()\n",
        "      correct += (predictions.argmax(1) == y). type(torch.float).sum().item()\n",
        "  test_loss /= num_of_batches\n",
        "  correct /= size\n",
        "  print(f\"Test Error: \\n Accuracy: {(100* correct):>0.1}%, Avg loss: {test_loss:>8f} \\n\")\n"
      ],
      "metadata": {
        "id": "xofU7jia2cLL"
      },
      "execution_count": 24,
      "outputs": []
    },
    {
      "cell_type": "markdown",
      "source": [
        "# Train the model"
      ],
      "metadata": {
        "id": "S02P_ZEEK0lM"
      }
    },
    {
      "cell_type": "code",
      "source": [
        "epochs = 5\n",
        "for t in range(epochs):\n",
        "  print(f\"Epoch {t+1} \\n---------\")\n",
        "  train(train_dataloader, model, loss_function, optimizer)\n",
        "  test(test_dataloader, model, loss_function)\n",
        "print(\"Done\")"
      ],
      "metadata": {
        "colab": {
          "base_uri": "https://localhost:8080/"
        },
        "id": "x_0hLuVf-jhK",
        "outputId": "a2eb1510-6a2d-4614-acc5-26668c1232cc"
      },
      "execution_count": 26,
      "outputs": [
        {
          "output_type": "stream",
          "name": "stdout",
          "text": [
            "Epoch 1 \n",
            "---------\n",
            "loss:0.939665 [   64/60000]\n",
            "loss:0.999303 [ 6464/60000]\n",
            "loss:0.773960 [12864/60000]\n",
            "loss:0.949193 [19264/60000]\n",
            "loss:0.822881 [25664/60000]\n",
            "loss:0.846994 [32064/60000]\n",
            "loss:0.917360 [38464/60000]\n",
            "loss:0.878595 [44864/60000]\n",
            "loss:0.909832 [51264/60000]\n",
            "loss:0.841635 [57664/60000]\n",
            "Test Error: \n",
            " Accuracy: 7e+01%, Avg loss: 0.855471 \n",
            "\n",
            "Epoch 2 \n",
            "---------\n",
            "loss:0.871148 [   64/60000]\n",
            "loss:0.948569 [ 6464/60000]\n",
            "loss:0.712599 [12864/60000]\n",
            "loss:0.901507 [19264/60000]\n",
            "loss:0.781702 [25664/60000]\n",
            "loss:0.794600 [32064/60000]\n",
            "loss:0.876550 [38464/60000]\n",
            "loss:0.841938 [44864/60000]\n",
            "loss:0.868080 [51264/60000]\n",
            "loss:0.805104 [57664/60000]\n",
            "Test Error: \n",
            " Accuracy: 7e+01%, Avg loss: 0.815682 \n",
            "\n",
            "Epoch 3 \n",
            "---------\n",
            "loss:0.815977 [   64/60000]\n",
            "loss:0.907261 [ 6464/60000]\n",
            "loss:0.664734 [12864/60000]\n",
            "loss:0.864079 [19264/60000]\n",
            "loss:0.750808 [25664/60000]\n",
            "loss:0.754199 [32064/60000]\n",
            "loss:0.842961 [38464/60000]\n",
            "loss:0.814320 [44864/60000]\n",
            "loss:0.835232 [51264/60000]\n",
            "loss:0.775594 [57664/60000]\n",
            "Test Error: \n",
            " Accuracy: 7e+01%, Avg loss: 0.783785 \n",
            "\n",
            "Epoch 4 \n",
            "---------\n",
            "loss:0.770484 [   64/60000]\n",
            "loss:0.872028 [ 6464/60000]\n",
            "loss:0.626258 [12864/60000]\n",
            "loss:0.834188 [19264/60000]\n",
            "loss:0.726359 [25664/60000]\n",
            "loss:0.722683 [32064/60000]\n",
            "loss:0.814175 [38464/60000]\n",
            "loss:0.792493 [44864/60000]\n",
            "loss:0.808678 [51264/60000]\n",
            "loss:0.750861 [57664/60000]\n",
            "Test Error: \n",
            " Accuracy: 7e+01%, Avg loss: 0.757192 \n",
            "\n",
            "Epoch 5 \n",
            "---------\n",
            "loss:0.731888 [   64/60000]\n",
            "loss:0.841057 [ 6464/60000]\n",
            "loss:0.594488 [12864/60000]\n",
            "loss:0.809617 [19264/60000]\n",
            "loss:0.706413 [25664/60000]\n",
            "loss:0.697577 [32064/60000]\n",
            "loss:0.788737 [38464/60000]\n",
            "loss:0.774362 [44864/60000]\n",
            "loss:0.786685 [51264/60000]\n",
            "loss:0.729563 [57664/60000]\n",
            "Test Error: \n",
            " Accuracy: 7e+01%, Avg loss: 0.734320 \n",
            "\n",
            "Done\n"
          ]
        }
      ]
    },
    {
      "cell_type": "code",
      "source": [],
      "metadata": {
        "id": "G4YwNYXe_K2j"
      },
      "execution_count": null,
      "outputs": []
    },
    {
      "cell_type": "markdown",
      "source": [
        "# Save the trained model"
      ],
      "metadata": {
        "id": "3Q9FiSUbK6Vn"
      }
    },
    {
      "cell_type": "code",
      "source": [
        "torch.save(model.state_dict(), \"model.pth\")\n",
        "print(\"Saved PyTorch model state to model.pth\")"
      ],
      "metadata": {
        "id": "s4cW09neK8Za",
        "outputId": "8793de3c-6396-4fd4-9538-092a0e26a1b6",
        "colab": {
          "base_uri": "https://localhost:8080/"
        }
      },
      "execution_count": 29,
      "outputs": [
        {
          "output_type": "stream",
          "name": "stdout",
          "text": [
            "Saved PyTorch model state to model.pth\n"
          ]
        }
      ]
    },
    {
      "cell_type": "markdown",
      "source": [
        "# Load the Pre-trained model"
      ],
      "metadata": {
        "id": "dMOML2r8LhV4"
      }
    },
    {
      "cell_type": "code",
      "source": [
        "model = NeuralNetwork().to(device)\n",
        "model.load_state_dict(torch.load(\"model.pth\", weights_only = True))"
      ],
      "metadata": {
        "id": "kUDrxq-eLA0y",
        "outputId": "fb8d7992-be01-4b02-d4a3-7ec63cf09814",
        "colab": {
          "base_uri": "https://localhost:8080/"
        }
      },
      "execution_count": 35,
      "outputs": [
        {
          "output_type": "execute_result",
          "data": {
            "text/plain": [
              "<All keys matched successfully>"
            ]
          },
          "metadata": {},
          "execution_count": 35
        }
      ]
    },
    {
      "cell_type": "markdown",
      "source": [
        "# Make the predictions on the new data"
      ],
      "metadata": {
        "id": "ceoR4w_4LkAi"
      }
    },
    {
      "cell_type": "code",
      "source": [
        "classes = [\n",
        "    \"T-shirt/top\",\n",
        "    \"Trouser\",\n",
        "    \"Pullover\",\n",
        "    \"Dress\",\n",
        "    \"Coat\",\n",
        "    \"Sandal\",\n",
        "    \"Shirt\",\n",
        "    \"Sneaker\",\n",
        "    \"Bag\",\n",
        "    \"Ankle boot\",\n",
        "]\n",
        "\n",
        "model.eval()\n",
        "x, y = test_data[0][0], test_data[0][1]\n",
        "with torch.no_grad():\n",
        "    x = x.to(device)\n",
        "    pred = model(x)\n",
        "    predicted, actual = classes[pred[0].argmax(0)], classes[y]\n",
        "    print(f'Predicted: \"{predicted}\", Actual: \"{actual}\"')"
      ],
      "metadata": {
        "id": "A6SDXgT0LSgS",
        "outputId": "822d0d90-cdc5-4885-b224-b0dc0aafb55e",
        "colab": {
          "base_uri": "https://localhost:8080/"
        }
      },
      "execution_count": 36,
      "outputs": [
        {
          "output_type": "stream",
          "name": "stdout",
          "text": [
            "Predicted: \"Ankle boot\", Actual: \"Ankle boot\"\n"
          ]
        }
      ]
    },
    {
      "cell_type": "code",
      "source": [],
      "metadata": {
        "id": "N6hMpjZMLrGD"
      },
      "execution_count": null,
      "outputs": []
    }
  ],
  "metadata": {
    "accelerator": "GPU",
    "colab": {
      "gpuType": "T4",
      "provenance": [],
      "toc_visible": true,
      "include_colab_link": true
    },
    "kernelspec": {
      "display_name": "Python 3",
      "name": "python3"
    },
    "language_info": {
      "codemirror_mode": {
        "name": "ipython",
        "version": 3
      },
      "file_extension": ".py",
      "mimetype": "text/x-python",
      "name": "python",
      "nbconvert_exporter": "python",
      "pygments_lexer": "ipython3",
      "version": "3.12.2"
    }
  },
  "nbformat": 4,
  "nbformat_minor": 0
}