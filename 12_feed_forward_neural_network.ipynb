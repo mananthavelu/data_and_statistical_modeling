{
  "cells": [
    {
      "cell_type": "markdown",
      "metadata": {
        "id": "view-in-github",
        "colab_type": "text"
      },
      "source": [
        "<a href=\"https://colab.research.google.com/github/mananthavelu/data_and_statistical_modeling/blob/main/12_feed_forward_neural_network.ipynb\" target=\"_parent\"><img src=\"https://colab.research.google.com/assets/colab-badge.svg\" alt=\"Open In Colab\"/></a>"
      ]
    },
    {
      "cell_type": "markdown",
      "source": [
        "#### Import the necessary libraries, dataset"
      ],
      "metadata": {
        "id": "ssXOzxic3CFw"
      }
    },
    {
      "cell_type": "code",
      "execution_count": 1,
      "metadata": {
        "id": "Qu8-lqRWaIuA"
      },
      "outputs": [],
      "source": [
        "# Buiding a NN model\n",
        "import torch\n",
        "from torch import nn\n",
        "from torch.utils.data import DataLoader\n",
        "from torchvision import datasets\n",
        "from torchvision.transforms import ToTensor"
      ]
    },
    {
      "cell_type": "code",
      "source": [
        "# Doanloading the training ata from open datasets\n",
        "training_data = datasets.FashionMNIST(\n",
        "    root = \"data\",\n",
        "    train = True,\n",
        "    download = True,\n",
        "    transform = ToTensor(),\n",
        ")"
      ],
      "metadata": {
        "colab": {
          "base_uri": "https://localhost:8080/"
        },
        "id": "LSJbLVcwbgn5",
        "outputId": "a6492e8a-7b2c-4f4a-d71a-86627f08497c"
      },
      "execution_count": 2,
      "outputs": [
        {
          "output_type": "stream",
          "name": "stderr",
          "text": [
            "100%|██████████| 26.4M/26.4M [00:07<00:00, 3.61MB/s]\n",
            "100%|██████████| 29.5k/29.5k [00:00<00:00, 204kB/s]\n",
            "100%|██████████| 4.42M/4.42M [00:01<00:00, 3.76MB/s]\n",
            "100%|██████████| 5.15k/5.15k [00:00<00:00, 10.4MB/s]\n"
          ]
        }
      ]
    },
    {
      "cell_type": "code",
      "source": [
        "# Doanload the test data from open datasets\n",
        "test_data = datasets.FashionMNIST(\n",
        "    root = \"data\",\n",
        "    train = False,\n",
        "    download = True,\n",
        "    transform = ToTensor(),\n",
        ")"
      ],
      "metadata": {
        "id": "GI-ZV4jDbzXZ"
      },
      "execution_count": 3,
      "outputs": []
    },
    {
      "cell_type": "code",
      "source": [
        "# Define the batch size\n",
        "batch_size = 64\n",
        "\n",
        "# Create data loaders\n",
        "\n",
        "train_dataloader = DataLoader(training_data, batch_size = batch_size)\n",
        "test_dataloader = DataLoader(test_data, batch_size = batch_size)\n",
        "\n",
        "for X, y in test_dataloader:\n",
        "  print(f\"Shape of X [N, C, H, W]: {X.shape}\")\n",
        "  print(f\"Shape of y: {y.shape} {y.dtype}\")\n",
        "  break"
      ],
      "metadata": {
        "colab": {
          "base_uri": "https://localhost:8080/"
        },
        "id": "aTBJN480cDC5",
        "outputId": "ab019f82-2ada-4f80-d4e3-2b6c3222624e"
      },
      "execution_count": 4,
      "outputs": [
        {
          "output_type": "stream",
          "name": "stdout",
          "text": [
            "Shape of X [N, C, H, W]: torch.Size([64, 1, 28, 28])\n",
            "Shape of y: torch.Size([64]) torch.int64\n"
          ]
        }
      ]
    },
    {
      "cell_type": "code",
      "source": [
        "# Creating models\n",
        "# Accelerator usage\n",
        "device = torch.accelerator.current_accelerator().type\\\n",
        "if torch.accelerator.is_available() else \"cpu\"\n",
        "\n",
        "print(\"Device: {device}\")"
      ],
      "metadata": {
        "id": "Q7LVfZLRcIXP",
        "colab": {
          "base_uri": "https://localhost:8080/"
        },
        "outputId": "8c8f42ed-4a7b-433f-82e2-1475b6a6ded3"
      },
      "execution_count": 5,
      "outputs": [
        {
          "output_type": "stream",
          "name": "stdout",
          "text": [
            "Device: {device}\n"
          ]
        }
      ]
    },
    {
      "cell_type": "code",
      "source": [
        "# Define the model\n",
        "\n",
        "class NeuralNetwork(nn.Module):\n",
        "  def __init__(self):\n",
        "    super().__init__()\n",
        "    self.flatten = nn.Flatten()\n",
        "    self.linear_relu_stack = nn.Sequential(\n",
        "        nn.Linear(28*28, 512),\n",
        "        nn.ReLU(),\n",
        "        nn.Linear(512,512),\n",
        "        nn.ReLU(),\n",
        "        nn.Linear(512,10)\n",
        "    )\n",
        "  def forward(self,x):\n",
        "    x = self.flatten(x)\n",
        "    logits = self.linear_relu_stack(x)\n",
        "    return logits\n",
        "\n",
        "model = NeuralNetwork().to(device)\n",
        "print(model)"
      ],
      "metadata": {
        "id": "0_hd9ab-OdDu",
        "colab": {
          "base_uri": "https://localhost:8080/"
        },
        "outputId": "da9ec2dd-1144-4b71-e644-6a9f8477f582"
      },
      "execution_count": 17,
      "outputs": [
        {
          "output_type": "stream",
          "name": "stdout",
          "text": [
            "NeuralNetwork(\n",
            "  (flatten): Flatten(start_dim=1, end_dim=-1)\n",
            "  (linear_relu_stack): Sequential(\n",
            "    (0): Linear(in_features=784, out_features=512, bias=True)\n",
            "    (1): ReLU()\n",
            "    (2): Linear(in_features=512, out_features=512, bias=True)\n",
            "    (3): ReLU()\n",
            "    (4): Linear(in_features=512, out_features=10, bias=True)\n",
            "  )\n",
            ")\n"
          ]
        }
      ]
    },
    {
      "cell_type": "markdown",
      "source": [
        "**Optimizing the model parameters**"
      ],
      "metadata": {
        "id": "ewhhP2OkZKoA"
      }
    },
    {
      "cell_type": "code",
      "source": [
        "loss_function = nn.CrossEntropyLoss()# Define the loss function which will drive the optimization\n",
        "optimizer = torch.optim.SGD(model.parameters(),lr = 1e-3)#the optimizer which takes the loss information and updates the weight\n",
        "# Loss function -> Gradients -> Weights adjustments"
      ],
      "metadata": {
        "id": "XclxuANBPTkn"
      },
      "execution_count": 18,
      "outputs": []
    },
    {
      "cell_type": "code",
      "source": [
        "def train(dataloader, model, loss_function, optimizer):\n",
        "  size = len(dataloader.dataset)# Size of the training dataset\n",
        "  model.train()# Train the model\n",
        "  for batch, (X,y) in enumerate(dataloader):\n",
        "    X, y = X.to(device), y.to(device)\n",
        "\n",
        "    # Compute prediction error\n",
        "    prediction = model(X)\n",
        "    loss = loss_function(prediction, y)\n",
        "\n",
        "    # Backpropagation\n",
        "    loss.backward()# Calculate the gradients and attach it to .grad attribute for each parameter\n",
        "    optimizer.step()# Optimizer has access to params # Update the weights of the model\n",
        "    optimizer.zero_grad()# Reset the gradients to 0 so the gradients from prev. iteration dont accumulate\n",
        "\n",
        "    if batch % 100 == 0:\n",
        "      loss, current = loss.item(), (batch+1)* len(X)\n",
        "      print(f\"loss:{loss:>7f} [{current:>5d}/{size:.>5d}]\")\n"
      ],
      "metadata": {
        "id": "1fb5emICXuY1"
      },
      "execution_count": 19,
      "outputs": []
    },
    {
      "cell_type": "code",
      "source": [
        "def test(dataloader, model, loss_function):\n",
        "  size = len(dataloader.dataset)\n",
        "  num_of_batches = len(dataloader)\n",
        "  model.eval()\n",
        "  test_loss, correct = 0, 0\n",
        "  with torch.no_grad():\n",
        "    for X, y in dataloader:\n",
        "      X, y = X.to(device), y.to(device)\n",
        "      predictions = model(X)\n",
        "      test_loss += loss_function(predictions, y).item()\n",
        "      correct += (predictions.argmax(1) == y). type(torch.float).sum().item()\n",
        "  test_loss /= num_of_batches\n",
        "  correct /= size\n",
        "  print(f\"Test Error: \\n Accuracy: {(100* correct):>0.1}%, Avg loss: {test_loss:>8f} \\n\")\n"
      ],
      "metadata": {
        "id": "xofU7jia2cLL"
      },
      "execution_count": 24,
      "outputs": []
    },
    {
      "cell_type": "code",
      "source": [
        "epochs = 5\n",
        "for t in range(epochs):\n",
        "  print(f\"Epoch {t+1} \\n---------\")\n",
        "  train(train_dataloader, model, loss_function, optimizer)\n",
        "  test(test_dataloader, model, loss_function)\n",
        "print(\"Done\")"
      ],
      "metadata": {
        "id": "x_0hLuVf-jhK",
        "outputId": "2603213e-436e-4e76-d462-657d639456a4",
        "colab": {
          "base_uri": "https://localhost:8080/"
        }
      },
      "execution_count": 25,
      "outputs": [
        {
          "output_type": "stream",
          "name": "stdout",
          "text": [
            "Epoch 1 \n",
            "---------\n",
            "loss:1.904798 [   64/60000]\n",
            "loss:1.877403 [ 6464/60000]\n",
            "loss:1.753543 [12864/60000]\n",
            "loss:1.784287 [19264/60000]\n",
            "loss:1.689282 [25664/60000]\n",
            "loss:1.638467 [32064/60000]\n",
            "loss:1.649562 [38464/60000]\n",
            "loss:1.566828 [44864/60000]\n",
            "loss:1.579901 [51264/60000]\n",
            "loss:1.456794 [57664/60000]\n",
            "Test Error: \n",
            " Accuracy: 6e+01%, Avg loss: 1.494772 \n",
            "\n",
            "Epoch 2 \n",
            "---------\n",
            "loss:1.562737 [   64/60000]\n",
            "loss:1.533797 [ 6464/60000]\n",
            "loss:1.377496 [12864/60000]\n",
            "loss:1.444535 [19264/60000]\n",
            "loss:1.332216 [25664/60000]\n",
            "loss:1.332405 [32064/60000]\n",
            "loss:1.341581 [38464/60000]\n",
            "loss:1.283259 [44864/60000]\n",
            "loss:1.312234 [51264/60000]\n",
            "loss:1.197712 [57664/60000]\n",
            "Test Error: \n",
            " Accuracy: 6e+01%, Avg loss: 1.237276 \n",
            "\n",
            "Epoch 3 \n",
            "---------\n",
            "loss:1.312026 [   64/60000]\n",
            "loss:1.302148 [ 6464/60000]\n",
            "loss:1.128957 [12864/60000]\n",
            "loss:1.233292 [19264/60000]\n",
            "loss:1.105986 [25664/60000]\n",
            "loss:1.138524 [32064/60000]\n",
            "loss:1.157729 [38464/60000]\n",
            "loss:1.112220 [44864/60000]\n",
            "loss:1.148096 [51264/60000]\n",
            "loss:1.048094 [57664/60000]\n",
            "Test Error: \n",
            " Accuracy: 6e+01%, Avg loss: 1.079926 \n",
            "\n",
            "Epoch 4 \n",
            "---------\n",
            "loss:1.145464 [   64/60000]\n",
            "loss:1.158989 [ 6464/60000]\n",
            "loss:0.967081 [12864/60000]\n",
            "loss:1.101504 [19264/60000]\n",
            "loss:0.967828 [25664/60000]\n",
            "loss:1.008642 [32064/60000]\n",
            "loss:1.044736 [38464/60000]\n",
            "loss:1.002689 [44864/60000]\n",
            "loss:1.040503 [51264/60000]\n",
            "loss:0.953234 [57664/60000]\n",
            "Test Error: \n",
            " Accuracy: 7e+01%, Avg loss: 0.977777 \n",
            "\n",
            "Epoch 5 \n",
            "---------\n",
            "loss:1.027753 [   64/60000]\n",
            "loss:1.065425 [ 6464/60000]\n",
            "loss:0.855112 [12864/60000]\n",
            "loss:1.012575 [19264/60000]\n",
            "loss:0.880922 [25664/60000]\n",
            "loss:0.915852 [32064/60000]\n",
            "loss:0.970264 [38464/60000]\n",
            "loss:0.929418 [44864/60000]\n",
            "loss:0.965002 [51264/60000]\n",
            "loss:0.888904 [57664/60000]\n",
            "Test Error: \n",
            " Accuracy: 7e+01%, Avg loss: 0.907187 \n",
            "\n",
            "Done\n"
          ]
        }
      ]
    },
    {
      "cell_type": "code",
      "source": [],
      "metadata": {
        "id": "G4YwNYXe_K2j"
      },
      "execution_count": null,
      "outputs": []
    }
  ],
  "metadata": {
    "accelerator": "GPU",
    "colab": {
      "gpuType": "T4",
      "provenance": [],
      "include_colab_link": true
    },
    "kernelspec": {
      "display_name": "Python 3",
      "name": "python3"
    },
    "language_info": {
      "codemirror_mode": {
        "name": "ipython",
        "version": 3
      },
      "file_extension": ".py",
      "mimetype": "text/x-python",
      "name": "python",
      "nbconvert_exporter": "python",
      "pygments_lexer": "ipython3",
      "version": "3.12.2"
    }
  },
  "nbformat": 4,
  "nbformat_minor": 0
}