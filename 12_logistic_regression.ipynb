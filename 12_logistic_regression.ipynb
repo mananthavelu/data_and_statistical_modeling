{
 "cells": [
  {
   "cell_type": "code",
   "execution_count": null,
   "id": "a91ed0a6",
   "metadata": {},
   "outputs": [],
   "source": [
    "# Preparation\n",
    "\n",
    "import numpy as np\n",
    "import matplotlib.pyplot as plt\n",
    "from mpl_toolkits import mplot3d\n",
    "import torch\n",
    "from torch.utils.data import Dataset, DataLoader\n",
    "import torch.nn as nn"
   ]
  },
  {
   "cell_type": "code",
   "execution_count": null,
   "id": "6140e78e",
   "metadata": {},
   "outputs": [],
   "source": [
    "# Why the Mean Squared Error is not a good loss function for the Classification tasks?\n",
    " \n",
    "# Softmax \n",
    "\n"
   ]
  }
 ],
 "metadata": {
  "kernelspec": {
   "display_name": "Python 3",
   "language": "python",
   "name": "python3"
  },
  "language_info": {
   "codemirror_mode": {
    "name": "ipython",
    "version": 3
   },
   "file_extension": ".py",
   "mimetype": "text/x-python",
   "name": "python",
   "nbconvert_exporter": "python",
   "pygments_lexer": "ipython3",
   "version": "3.12.2"
  }
 },
 "nbformat": 4,
 "nbformat_minor": 5
}
