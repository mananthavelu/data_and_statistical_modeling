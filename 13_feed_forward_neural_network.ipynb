{
  "cells": [
    {
      "cell_type": "markdown",
      "metadata": {
        "id": "ssXOzxic3CFw"
      },
      "source": [
        "# Import the necessary libraries, dataset\n",
        "\n"
      ]
    },
    {
      "cell_type": "code",
      "execution_count": 1,
      "metadata": {
        "id": "Qu8-lqRWaIuA"
      },
      "outputs": [],
      "source": [
        "# Buiding a NN model\n",
        "import torch\n",
        "from torch import nn\n",
        "from torch.utils.data import DataLoader\n",
        "from torchvision import datasets\n",
        "from torchvision.transforms import ToTensor"
      ]
    },
    {
      "cell_type": "code",
      "execution_count": 2,
      "metadata": {
        "colab": {
          "base_uri": "https://localhost:8080/"
        },
        "id": "LSJbLVcwbgn5",
        "outputId": "a6492e8a-7b2c-4f4a-d71a-86627f08497c"
      },
      "outputs": [
        {
          "name": "stderr",
          "output_type": "stream",
          "text": [
            "100%|██████████| 26.4M/26.4M [00:01<00:00, 14.4MB/s]\n",
            "100%|██████████| 29.5k/29.5k [00:00<00:00, 1.10MB/s]\n",
            "100%|██████████| 4.42M/4.42M [00:00<00:00, 12.4MB/s]\n",
            "100%|██████████| 5.15k/5.15k [00:00<?, ?B/s]\n"
          ]
        }
      ],
      "source": [
        "# Doanloading the training ata from open datasets\n",
        "training_data = datasets.FashionMNIST(\n",
        "    root = \"data\",\n",
        "    train = True,\n",
        "    download = True,\n",
        "    transform = ToTensor(),\n",
        ")"
      ]
    },
    {
      "cell_type": "code",
      "execution_count": 3,
      "metadata": {
        "colab": {
          "base_uri": "https://localhost:8080/",
          "height": 462
        },
        "id": "4YfL9ob5NH-h",
        "outputId": "60990143-afad-42cf-ffa5-f0a04243c0ae"
      },
      "outputs": [
        {
          "data": {
            "image/png": "[encoded data removed]",
            "text/plain": [
              "<Figure size 1500x500 with 1 Axes>"
            ]
          },
          "metadata": {},
          "output_type": "display_data"
        },
        {
          "name": "stdout",
          "output_type": "stream",
          "text": [
            "0\n"
          ]
        }
      ],
      "source": [
        "# Access the first image with its label\n",
        "image, label = training_data[4]\n",
        "\n",
        "\n",
        "%matplotlib inline\n",
        "import matplotlib.pyplot as plt\n",
        "plt.figure(figsize=(15, 5))\n",
        "plt.imshow(image.squeeze(), cmap = 'gray')\n",
        "plt.show()\n",
        "print(label)"
      ]
    },
    {
      "cell_type": "code",
      "execution_count": 4,
      "metadata": {
        "id": "GI-ZV4jDbzXZ"
      },
      "outputs": [],
      "source": [
        "# Doanload the test data from open datasets\n",
        "test_data = datasets.FashionMNIST(\n",
        "    root = \"data\",\n",
        "    train = False,\n",
        "    download = True,\n",
        "    transform = ToTensor(),\n",
        ")"
      ]
    },
    {
      "cell_type": "code",
      "execution_count": 5,
      "metadata": {
        "colab": {
          "base_uri": "https://localhost:8080/"
        },
        "id": "aTBJN480cDC5",
        "outputId": "ab019f82-2ada-4f80-d4e3-2b6c3222624e"
      },
      "outputs": [
        {
          "name": "stdout",
          "output_type": "stream",
          "text": [
            "Shape of X [N, C, H, W]: torch.Size([64, 1, 28, 28])\n",
            "Shape of y: torch.Size([64]) torch.int64\n"
          ]
        }
      ],
      "source": [
        "# Define the batch size\n",
        "batch_size = 64\n",
        "\n",
        "# Create data loaders\n",
        "\n",
        "train_dataloader = DataLoader(training_data, batch_size = batch_size)\n",
        "test_dataloader = DataLoader(test_data, batch_size = batch_size)\n",
        "\n",
        "for X, y in test_dataloader:\n",
        "  print(f\"Shape of X [N, C, H, W]: {X.shape}\")\n",
        "  print(f\"Shape of y: {y.shape} {y.dtype}\")\n",
        "  break"
      ]
    },
    {
      "cell_type": "code",
      "execution_count": 6,
      "metadata": {
        "colab": {
          "base_uri": "https://localhost:8080/"
        },
        "id": "Q7LVfZLRcIXP",
        "outputId": "8c8f42ed-4a7b-433f-82e2-1475b6a6ded3"
      },
      "outputs": [
        {
          "name": "stdout",
          "output_type": "stream",
          "text": [
            "Device: {device}\n"
          ]
        }
      ],
      "source": [
        "# Creating models\n",
        "# Accelerator usage\n",
        "device = torch.accelerator.current_accelerator().type\\\n",
        "if torch.accelerator.is_available() else \"cpu\"\n",
        "\n",
        "print(\"Device: {device}\")"
      ]
    },
    {
      "cell_type": "markdown",
      "metadata": {
        "id": "0UZpEtA8KZDV"
      },
      "source": [
        "# Define the model architecture"
      ]
    },
    {
      "cell_type": "code",
      "execution_count": 7,
      "metadata": {
        "colab": {
          "base_uri": "https://localhost:8080/"
        },
        "id": "0_hd9ab-OdDu",
        "outputId": "da9ec2dd-1144-4b71-e644-6a9f8477f582"
      },
      "outputs": [
        {
          "name": "stdout",
          "output_type": "stream",
          "text": [
            "NeuralNetwork(\n",
            "  (flatten): Flatten(start_dim=1, end_dim=-1)\n",
            "  (linear_relu_stack): Sequential(\n",
            "    (0): Linear(in_features=784, out_features=512, bias=True)\n",
            "    (1): ReLU()\n",
            "    (2): Linear(in_features=512, out_features=512, bias=True)\n",
            "    (3): ReLU()\n",
            "    (4): Linear(in_features=512, out_features=10, bias=True)\n",
            "  )\n",
            ")\n"
          ]
        }
      ],
      "source": [
        "# Define the model\n",
        "\n",
        "class NeuralNetwork(nn.Module):\n",
        "  def __init__(self):\n",
        "    super().__init__()\n",
        "    self.flatten = nn.Flatten()\n",
        "    self.linear_relu_stack = nn.Sequential(\n",
        "        nn.Linear(28*28, 512),\n",
        "        nn.ReLU(),\n",
        "        nn.Linear(512,512),\n",
        "        nn.ReLU(),\n",
        "        nn.Linear(512,10)\n",
        "    )\n",
        "  def forward(self,x):\n",
        "    x = self.flatten(x)\n",
        "    logits = self.linear_relu_stack(x)\n",
        "    return logits\n",
        "\n",
        "model = NeuralNetwork().to(device)\n",
        "print(model)"
      ]
    },
    {
      "cell_type": "markdown",
      "metadata": {
        "id": "ewhhP2OkZKoA"
      },
      "source": [
        "**Optimizing the model parameters**"
      ]
    },
    {
      "cell_type": "code",
      "execution_count": 8,
      "metadata": {
        "id": "XclxuANBPTkn"
      },
      "outputs": [],
      "source": [
        "loss_function = nn.CrossEntropyLoss()# Define the loss function which will drive the optimization\n",
        "optimizer = torch.optim.SGD(model.parameters(),lr = 1e-3)#the optimizer which takes the loss information and updates the weight\n",
        "# Loss function -> Gradients -> Weights adjustments"
      ]
    },
    {
      "cell_type": "markdown",
      "metadata": {
        "id": "UXrkIOBSKnKD"
      },
      "source": [
        "# Define the 'Train' method"
      ]
    },
    {
      "cell_type": "code",
      "execution_count": 9,
      "metadata": {
        "id": "1fb5emICXuY1"
      },
      "outputs": [],
      "source": [
        "def train(dataloader, model, loss_function, optimizer):\n",
        "  size = len(dataloader.dataset)# Size of the training dataset\n",
        "  model.train()# Train the model\n",
        "  for batch, (X,y) in enumerate(dataloader):\n",
        "    X, y = X.to(device), y.to(device)\n",
        "\n",
        "    # Compute prediction error\n",
        "    prediction = model(X)\n",
        "    loss = loss_function(prediction, y)\n",
        "\n",
        "    # Backpropagation\n",
        "    loss.backward()# Calculate the gradients and attach it to .grad attribute for each parameter\n",
        "    optimizer.step()# Optimizer has access to params # Update the weights of the model\n",
        "    optimizer.zero_grad()# Reset the gradients to 0 so the gradients from prev. iteration dont accumulate\n",
        "\n",
        "    if batch % 100 == 0:\n",
        "      loss, current = loss.item(), (batch+1)* len(X)\n",
        "      print(f\"loss:{loss:>7f} [{current:>5d}/{size:.>5d}]\")\n"
      ]
    },
    {
      "cell_type": "markdown",
      "metadata": {
        "id": "cE-Tw2F-KwWb"
      },
      "source": [
        "# Define the 'Test' method"
      ]
    },
    {
      "cell_type": "code",
      "execution_count": 10,
      "metadata": {
        "id": "xofU7jia2cLL"
      },
      "outputs": [],
      "source": [
        "def test(dataloader, model, loss_function):\n",
        "  size = len(dataloader.dataset)\n",
        "  num_of_batches = len(dataloader)\n",
        "  model.eval()\n",
        "  test_loss, correct = 0, 0\n",
        "  with torch.no_grad():\n",
        "    for X, y in dataloader:\n",
        "      X, y = X.to(device), y.to(device)\n",
        "      predictions = model(X)\n",
        "      test_loss += loss_function(predictions, y).item()\n",
        "      correct += (predictions.argmax(1) == y). type(torch.float).sum().item()\n",
        "  test_loss /= num_of_batches\n",
        "  correct /= size\n",
        "  print(f\"Test Error: \\n Accuracy: {(100* correct):>0.1}%, Avg loss: {test_loss:>8f} \\n\")\n"
      ]
    },
    {
      "cell_type": "markdown",
      "metadata": {
        "id": "S02P_ZEEK0lM"
      },
      "source": [
        "# Train the model"
      ]
    },
    {
      "cell_type": "code",
      "execution_count": 11,
      "metadata": {
        "colab": {
          "base_uri": "https://localhost:8080/"
        },
        "id": "x_0hLuVf-jhK",
        "outputId": "a2eb1510-6a2d-4614-acc5-26668c1232cc"
      },
      "outputs": [
        {
          "name": "stdout",
          "output_type": "stream",
          "text": [
            "Epoch 1 \n",
            "---------"
          ]
        },
        {
          "name": "stdout",
          "output_type": "stream",
          "text": [
            "\n",
            "loss:2.306156 [   64/60000]\n",
            "loss:2.294207 [ 6464/60000]\n",
            "loss:2.271687 [12864/60000]\n",
            "loss:2.265670 [19264/60000]\n",
            "loss:2.252181 [25664/60000]\n",
            "loss:2.227238 [32064/60000]\n",
            "loss:2.232957 [38464/60000]\n",
            "loss:2.203803 [44864/60000]\n",
            "loss:2.196992 [51264/60000]\n",
            "loss:2.174772 [57664/60000]\n",
            "Test Error: \n",
            " Accuracy: 4e+01%, Avg loss: 2.165463 \n",
            "\n",
            "Epoch 2 \n",
            "---------\n",
            "loss:2.176948 [   64/60000]\n",
            "loss:2.171444 [ 6464/60000]\n",
            "loss:2.109101 [12864/60000]\n",
            "loss:2.123826 [19264/60000]\n",
            "loss:2.080888 [25664/60000]\n",
            "loss:2.025473 [32064/60000]\n",
            "loss:2.042127 [38464/60000]\n",
            "loss:1.970429 [44864/60000]\n",
            "loss:1.970824 [51264/60000]\n",
            "loss:1.906743 [57664/60000]\n",
            "Test Error: \n",
            " Accuracy: 6e+01%, Avg loss: 1.905416 \n",
            "\n",
            "Epoch 3 \n",
            "---------\n",
            "loss:1.937409 [   64/60000]\n",
            "loss:1.915263 [ 6464/60000]\n",
            "loss:1.791272 [12864/60000]\n",
            "loss:1.826277 [19264/60000]\n",
            "loss:1.723569 [25664/60000]\n",
            "loss:1.675596 [32064/60000]\n",
            "loss:1.682092 [38464/60000]\n",
            "loss:1.592382 [44864/60000]\n",
            "loss:1.609545 [51264/60000]\n",
            "loss:1.509313 [57664/60000]\n",
            "Test Error: \n",
            " Accuracy: 6e+01%, Avg loss: 1.528501 \n",
            "\n",
            "Epoch 4 \n",
            "---------\n",
            "loss:1.594684 [   64/60000]\n",
            "loss:1.567597 [ 6464/60000]\n",
            "loss:1.407161 [12864/60000]\n",
            "loss:1.473608 [19264/60000]\n",
            "loss:1.360917 [25664/60000]\n",
            "loss:1.353788 [32064/60000]\n",
            "loss:1.360566 [38464/60000]\n",
            "loss:1.292632 [44864/60000]\n",
            "loss:1.324674 [51264/60000]\n",
            "loss:1.232528 [57664/60000]\n",
            "Test Error: \n",
            " Accuracy: 6e+01%, Avg loss: 1.254337 \n",
            "\n",
            "Epoch 5 \n",
            "---------\n",
            "loss:1.329715 [   64/60000]\n",
            "loss:1.319887 [ 6464/60000]\n",
            "loss:1.143541 [12864/60000]\n",
            "loss:1.245286 [19264/60000]\n",
            "loss:1.125534 [25664/60000]\n",
            "loss:1.146541 [32064/60000]\n",
            "loss:1.164747 [38464/60000]\n",
            "loss:1.108397 [44864/60000]\n",
            "loss:1.146258 [51264/60000]\n",
            "loss:1.068789 [57664/60000]\n",
            "Test Error: \n",
            " Accuracy: 6e+01%, Avg loss: 1.085422 \n",
            "\n",
            "Done\n"
          ]
        }
      ],
      "source": [
        "epochs = 5\n",
        "for t in range(epochs):\n",
        "  print(f\"Epoch {t+1} \\n---------\")\n",
        "  train(train_dataloader, model, loss_function, optimizer)\n",
        "  test(test_dataloader, model, loss_function)\n",
        "print(\"Done\")"
      ]
    },
    {
      "cell_type": "code",
      "execution_count": null,
      "metadata": {
        "id": "G4YwNYXe_K2j"
      },
      "outputs": [],
      "source": []
    },
    {
      "cell_type": "markdown",
      "metadata": {
        "id": "3Q9FiSUbK6Vn"
      },
      "source": [
        "# Save the trained model"
      ]
    },
    {
      "cell_type": "code",
      "execution_count": 12,
      "metadata": {
        "colab": {
          "base_uri": "https://localhost:8080/"
        },
        "id": "s4cW09neK8Za",
        "outputId": "8793de3c-6396-4fd4-9538-092a0e26a1b6"
      },
      "outputs": [
        {
          "name": "stdout",
          "output_type": "stream",
          "text": [
            "Saved PyTorch model state to model.pth\n"
          ]
        }
      ],
      "source": [
        "torch.save(model.state_dict(), \"model.pth\")\n",
        "print(\"Saved PyTorch model state to model.pth\")"
      ]
    },
    {
      "cell_type": "markdown",
      "metadata": {
        "id": "dMOML2r8LhV4"
      },
      "source": [
        "# Load the Pre-trained model"
      ]
    },
    {
      "cell_type": "code",
      "execution_count": 13,
      "metadata": {
        "colab": {
          "base_uri": "https://localhost:8080/"
        },
        "id": "kUDrxq-eLA0y",
        "outputId": "fb8d7992-be01-4b02-d4a3-7ec63cf09814"
      },
      "outputs": [
        {
          "data": {
            "text/plain": [
              "<All keys matched successfully>"
            ]
          },
          "execution_count": 13,
          "metadata": {},
          "output_type": "execute_result"
        }
      ],
      "source": [
        "model = NeuralNetwork().to(device)\n",
        "model.load_state_dict(torch.load(\"model.pth\", weights_only = True))"
      ]
    },
    {
      "cell_type": "markdown",
      "metadata": {
        "id": "ceoR4w_4LkAi"
      },
      "source": [
        "# Make the predictions on the new data"
      ]
    },
    {
      "cell_type": "code",
      "execution_count": 14,
      "metadata": {
        "colab": {
          "base_uri": "https://localhost:8080/"
        },
        "id": "A6SDXgT0LSgS",
        "outputId": "822d0d90-cdc5-4885-b224-b0dc0aafb55e"
      },
      "outputs": [
        {
          "name": "stdout",
          "output_type": "stream",
          "text": [
            "Predicted: \"Ankle boot\", Actual: \"Ankle boot\"\n"
          ]
        }
      ],
      "source": [
        "classes = [\n",
        "    \"T-shirt/top\",\n",
        "    \"Trouser\",\n",
        "    \"Pullover\",\n",
        "    \"Dress\",\n",
        "    \"Coat\",\n",
        "    \"Sandal\",\n",
        "    \"Shirt\",\n",
        "    \"Sneaker\",\n",
        "    \"Bag\",\n",
        "    \"Ankle boot\",\n",
        "]\n",
        "\n",
        "model.eval()\n",
        "x, y = test_data[0][0], test_data[0][1]\n",
        "with torch.no_grad():\n",
        "    x = x.to(device)\n",
        "    pred = model(x)\n",
        "    predicted, actual = classes[pred[0].argmax(0)], classes[y]\n",
        "    print(f'Predicted: \"{predicted}\", Actual: \"{actual}\"')"
      ]
    },
    {
      "cell_type": "code",
      "execution_count": null,
      "metadata": {
        "id": "N6hMpjZMLrGD"
      },
      "outputs": [],
      "source": []
    }
  ],
  "metadata": {
    "accelerator": "GPU",
    "colab": {
      "gpuType": "T4",
      "provenance": []
    },
    "kernelspec": {
      "display_name": "Python 3",
      "name": "python3"
    },
    "language_info": {
      "codemirror_mode": {
        "name": "ipython",
        "version": 3
      },
      "file_extension": ".py",
      "mimetype": "text/x-python",
      "name": "python",
      "nbconvert_exporter": "python",
      "pygments_lexer": "ipython3",
      "version": "3.12.2"
    }
  },
  "nbformat": 4,
  "nbformat_minor": 0
}
