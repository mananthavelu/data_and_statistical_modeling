{
  "nbformat": 4,
  "nbformat_minor": 0,
  "metadata": {
    "colab": {
      "provenance": [],
      "authorship_tag": "ABX9TyMLZFA6lSksk5mgn/XCABsY",
      "include_colab_link": true
    },
    "kernelspec": {
      "name": "python3",
      "display_name": "Python 3"
    },
    "language_info": {
      "name": "python"
    }
  },
  "cells": [
    {
      "cell_type": "markdown",
      "metadata": {
        "id": "view-in-github",
        "colab_type": "text"
      },
      "source": [
        "<a href=\"https://colab.research.google.com/github/mananthavelu/data_and_statistical_modeling/blob/main/PyTorch%20reference.ipynb\" target=\"_parent\"><img src=\"https://colab.research.google.com/assets/colab-badge.svg\" alt=\"Open In Colab\"/></a>"
      ]
    },
    {
      "cell_type": "markdown",
      "source": [
        "#### Tensor Basics"
      ],
      "metadata": {
        "id": "eafg9O9HEnay"
      }
    },
    {
      "cell_type": "code",
      "execution_count": 1,
      "metadata": {
        "id": "T1T1TaKrx1qK",
        "outputId": "892fadd2-a080-4219-fc0c-79f1b5c38f63",
        "colab": {
          "base_uri": "https://localhost:8080/"
        }
      },
      "outputs": [
        {
          "output_type": "stream",
          "name": "stdout",
          "text": [
            "tensor([1, 2, 3, 4, 5])\n",
            "tensor(2)\n",
            "<class 'torch.Tensor'>\n"
          ]
        }
      ],
      "source": [
        "# 0D - 1,2, 0.5\n",
        "# 1D  - [1,2,3,4,5]\n",
        "# 2D - [[1,2,3],[4,5,6]]\n",
        "# Data type - int, float, double, long, short, byte\n",
        "import torch\n",
        "import numpy as np\n",
        "\n",
        "a = torch.tensor([1,2,3,4,5])\n",
        "print(a)\n",
        "print(a[1])\n",
        "print(type(a))\n",
        "\n",
        "b = a.type(torch.float)\n",
        "print(a.ndimension())\n",
        "print(a.size())\n",
        "\n"
      ]
    },
    {
      "cell_type": "code",
      "source": [
        "b = a.type(torch.float)\n",
        "print(a.ndimension())\n",
        "print(a.size())"
      ],
      "metadata": {
        "id": "M2sZzhiHEoyw"
      },
      "execution_count": null,
      "outputs": []
    },
    {
      "cell_type": "code",
      "source": [
        "# Create Tensor from numpy array\n",
        "numpy_array = np.array([1,2,3])\n",
        "tensor_vector = torch.from_numpy(numpy_array)\n",
        "print(type(numpy_array))\n",
        "print(type(tensor_vector))\n",
        "\n",
        "#Back to numpy array\n",
        "np_array = tensor_vector.numpy()\n",
        "print(type(np_array))\n",
        "\n",
        "# From pandas series\n",
        "import pandas as pd\n",
        "pd_series = pd.Series([2,4,5, 0.2])\n",
        "tensor_fr_series = torch.from_numpy(pd_series.values)\n",
        "print(tensor_fr_series.dtype)\n",
        "print(tensor_fr_series.type())"
      ],
      "metadata": {
        "id": "_AaA2bOZExT9"
      },
      "execution_count": null,
      "outputs": []
    }
  ]
}