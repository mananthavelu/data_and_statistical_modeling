{
 "cells": [
  {
   "cell_type": "markdown",
   "id": "3ad13d7e",
   "metadata": {
    "papermill": {
     "duration": 0.002511,
     "end_time": "2025-04-29T01:45:44.436601",
     "exception": false,
     "start_time": "2025-04-29T01:45:44.434090",
     "status": "completed"
    },
    "tags": []
   },
   "source": [
    "# Goal: Build a Company latest news summary tool\n",
    "\n",
    "**Iteration-1: Given the Country name;**\n",
    "\n",
    "1. look for all the recent news articles summarizied in couple of sentences with source link - each hour.\n",
    "2. Use Google search for grounding\n",
    "3. Limit the number of sources to 5\n",
    "\n",
    "**Iteration-2: Add the following feature;**\n",
    "\n",
    "1. Refresh it for every hour\n",
    "2. If there is a negative news, send an alert to your email.\n",
    "\n",
    "**Iteration-3: Add features to handle volume;**\n",
    "\n",
    "1. Add functions, Data stores\n",
    "\n",
    "**Iteration-4: Improve the accuracy of the results, Add evaluation methods**\n",
    "\n",
    "1. Improve accuracy to summarize the very much the needed content\n",
    "2. Add evaluation - put more emphasis here\n",
    "3. Deploy as a web app in Google Cloud to end users"
   ]
  },
  {
   "cell_type": "markdown",
   "id": "b5cef18e",
   "metadata": {
    "papermill": {
     "duration": 0.001742,
     "end_time": "2025-04-29T01:45:44.440642",
     "exception": false,
     "start_time": "2025-04-29T01:45:44.438900",
     "status": "completed"
    },
    "tags": []
   },
   "source": [
    "## Set up the system"
   ]
  },
  {
   "cell_type": "code",
   "execution_count": 1,
   "id": "7387c775",
   "metadata": {
    "_cell_guid": "b1076dfc-b9ad-4769-8c92-a6c4dae69d19",
    "_uuid": "8f2839f25d086af736a60e9eeb907d3b93b6e0e5",
    "execution": {
     "iopub.execute_input": "2025-04-29T01:45:44.445353Z",
     "iopub.status.busy": "2025-04-29T01:45:44.445135Z",
     "iopub.status.idle": "2025-04-29T01:45:46.151689Z",
     "shell.execute_reply": "2025-04-29T01:45:46.151053Z"
    },
    "papermill": {
     "duration": 1.710751,
     "end_time": "2025-04-29T01:45:46.153310",
     "exception": false,
     "start_time": "2025-04-29T01:45:44.442559",
     "status": "completed"
    },
    "tags": []
   },
   "outputs": [],
   "source": [
    "# This Python 3 environment comes with many helpful analytics libraries installed\n",
    "# It is defined by the kaggle/python Docker image: https://github.com/kaggle/docker-python\n",
    "# For example, here's several helpful packages to load\n",
    "\n",
    "import numpy as np # linear algebra\n",
    "import pandas as pd # data processing, CSV file I/O (e.g. pd.read_csv)\n",
    "\n",
    "# Input data files are available in the read-only \"../input/\" directory\n",
    "# For example, running this (by clicking run or pressing Shift+Enter) will list all files under the input directory\n",
    "\n",
    "import os\n",
    "for dirname, _, filenames in os.walk('/kaggle/input'):\n",
    "    for filename in filenames:\n",
    "        print(os.path.join(dirname, filename))\n",
    "\n",
    "# You can write up to 20GB to the current directory (/kaggle/working/) that gets preserved as output when you create a version using \"Save & Run All\" \n",
    "# You can also write temporary files to /kaggle/temp/, but they won't be saved outside of the current session\n",
    "\n",
    "\n",
    "# Access the API - useful for accessing the model, google search\n",
    "from google import genai\n",
    "from google.genai import types\n",
    "from IPython.display import Markdown, HTML, display\n",
    "\n",
    "\n",
    "#Set the API key\n",
    "from kaggle_secrets import UserSecretsClient\n",
    "GOOGLE_API_KEY = UserSecretsClient().get_secret(\"GOOGLE_API_KEY\")\n",
    "\n",
    "# Initialize the client to interact with API \n",
    "client = genai.Client(api_key=GOOGLE_API_KEY)"
   ]
  },
  {
   "cell_type": "markdown",
   "id": "4c447905",
   "metadata": {
    "papermill": {
     "duration": 0.001884,
     "end_time": "2025-04-29T01:45:46.157627",
     "exception": false,
     "start_time": "2025-04-29T01:45:46.155743",
     "status": "completed"
    },
    "tags": []
   },
   "source": [
    "## Access the model's capabilities"
   ]
  },
  {
   "cell_type": "code",
   "execution_count": 2,
   "id": "e1a91fa0",
   "metadata": {
    "execution": {
     "iopub.execute_input": "2025-04-29T01:45:46.162516Z",
     "iopub.status.busy": "2025-04-29T01:45:46.162145Z",
     "iopub.status.idle": "2025-04-29T01:45:49.690850Z",
     "shell.execute_reply": "2025-04-29T01:45:49.690055Z"
    },
    "papermill": {
     "duration": 3.532677,
     "end_time": "2025-04-29T01:45:49.692340",
     "exception": false,
     "start_time": "2025-04-29T01:45:46.159663",
     "status": "completed"
    },
    "tags": []
   },
   "outputs": [
    {
     "data": {
      "text/markdown": [
       "The Taj Mahal is a magnificent ivory-white marble mausoleum located on the southern bank of the Yamuna River in Agra, Uttar Pradesh, India. Here's a breakdown of key facts:\n",
       "\n",
       "*   **Commissioned by:** The Mughal emperor Shah Jahan in 1631.\n",
       "*   **Purpose:** To house the tomb of his favorite wife, Mumtaz Mahal, who died in 1631 while giving birth to their 14th child.\n",
       "*   **Construction:** Construction started in 1632. The mausoleum was largely completed by 1643, but work on other parts of the complex continued until 1653.\n",
       "*   **Cost:** Estimated at the time to be around 32 million rupees, which would be approximately 52.8 billion rupees (U.S. $827 million) in 2015.\n",
       "*   **Artisans:** About 20,000 artisans were employed during construction.\n",
       "*   **Architecture:** It's considered the best example of Mughal architecture, blending Indian, Persian, and Islamic styles. It's noted for its bilateral symmetry.\n",
       "*   **UNESCO World Heritage Site:** Designated in 1983 as \"the jewel of Muslim art in India and one of the universally admired masterpieces of the world's heritage.\"\n",
       "*   **Popularity:** Attracts 7–8 million visitors a year.\n",
       "*   **Materials:** Built with brick-in-lime mortar, veneered with red sandstone and marble, and features inlay work of precious and semi-precious stones.\n",
       "*   **Complex:** The 17-hectare (42-acre) complex includes a mosque, a guest house, and formal gardens.\n",
       "*   **Symbolism:** Intended as an earthly replica of Mumtaz Mahal's house in paradise.\n"
      ],
      "text/plain": [
       "<IPython.core.display.Markdown object>"
      ]
     },
     "execution_count": 2,
     "metadata": {},
     "output_type": "execute_result"
    }
   ],
   "source": [
    "# And now re-run the same query with search grounding enabled.\n",
    "# tool - the component in Agent is used. Here 'google search' is a tool to retrieve the content from the web search\n",
    "config_with_search = types.GenerateContentConfig(\n",
    "    tools=[types.Tool(google_search=types.GoogleSearch())],\n",
    ")\n",
    "\n",
    "user_input = \"You are an expert in liguistics. Access this web link in single quote. Consider only this source. And find if any name called 'Abu Ali' \\\n",
    "is present in the latest EU sanctions list. Provide the necessary references from this list. \\\n",
    "Also consider the variations of this name and aliases you are aware\\\n",
    "Thank you. \\\n",
    "'https://data.europa.eu/data/datasets/consolidated-list-of-persons-groups-and-entities-subject-to-eu-financial-sanctions?locale=en'\"\n",
    "\n",
    "user_input = \"Tajmahal. \"\n",
    "\n",
    "#user_input = input(\"What would like to search?\")\n",
    "\n",
    "def query_with_grounding():\n",
    "    response = client.models.generate_content(\n",
    "        model='gemini-2.0-flash',\n",
    "        contents=user_input,\n",
    "        config=config_with_search\n",
    "    )\n",
    "    return response.candidates[0]\n",
    "\n",
    "\n",
    "rc = query_with_grounding()\n",
    "Markdown(rc.content.parts[0].text)"
   ]
  },
  {
   "cell_type": "code",
   "execution_count": 3,
   "id": "f2ee461e",
   "metadata": {
    "execution": {
     "iopub.execute_input": "2025-04-29T01:45:49.697944Z",
     "iopub.status.busy": "2025-04-29T01:45:49.697661Z",
     "iopub.status.idle": "2025-04-29T01:45:49.703192Z",
     "shell.execute_reply": "2025-04-29T01:45:49.702334Z"
    },
    "papermill": {
     "duration": 0.009511,
     "end_time": "2025-04-29T01:45:49.704358",
     "exception": false,
     "start_time": "2025-04-29T01:45:49.694847",
     "status": "completed"
    },
    "tags": []
   },
   "outputs": [
    {
     "name": "stdout",
     "output_type": "stream",
     "text": [
      "coolkidfacts.com: https://vertexaisearch.cloud.google.com/grounding-api-redirect/AWQVqAI9HEyvViy2TTF7yAeWptRPMx0z3sBgwDAxSHmD2AUD6D3jveRtCgdRhnKZ84QrYyBkgBM310hP2-2FjddpBalFJClteoKpN2r1ShgCEVaDgyW8zLFxO2N8FT5MFjgiYQn_2CyQZUQo8oe15THPPBnQ\n",
      "wikipedia.org: https://vertexaisearch.cloud.google.com/grounding-api-redirect/AWQVqAKPOHu3ypavAcFMMbcYukYm0GtPr_NsOC3k3W8MWOhOK-dLRLHPS8biJU9PkTU6OEmKXuGFgnKk44XpHVnY67m9lHMrL2WMYr_CAk2P8-r-vt--W8TCrGabJZipNpkXUyu9\n",
      "tajmahal.gov.in: https://vertexaisearch.cloud.google.com/grounding-api-redirect/AWQVqAIaqkLn2s6DcbSoatoJxOiiOSS7McWcF96E6PUMmtYIe1VfQPtlDtSq5Qwzu6ezLCXqcbPjn0qgrzAy82biB-jyejq4LOwzzklMXf5spTs3i2SdeHLr86crZnIKh9eWONGTbb2F\n",
      "tajmahalcabs.com: https://vertexaisearch.cloud.google.com/grounding-api-redirect/AWQVqAJXY2xYAVmZLiZIQumXle5NTgry4ldffJ8NfvxEdnjU2_qSGo923e2nDOJUgisAGAr37Ab1Xw5w4wszPBfavyHQZmPGgYpAOcJdIUXv9p2DNdHc-XMlsE3evZBipU4IyCWn77VTh5dIez5WpjrY3Dp-YboiFkfsGGcloQ==\n",
      "agra.nic.in: https://vertexaisearch.cloud.google.com/grounding-api-redirect/AWQVqALPn7uE8byp5ToUadh425sxyFEq_MK9R1HHTqJludWt3ETGIvWR8sEKN5CsPhEr_mU03nAEM4W8XM64mgfzzeB_5bh5kEISN6Scmr3L1ssViNTYCb8jH8mZN4h5V7xrRDTAG0c-ZzZvUeya\n",
      "unesco.org: https://vertexaisearch.cloud.google.com/grounding-api-redirect/AWQVqAJfbJEqFZSygnrMFRBjbXziQts9e40Z1xXsmZ54_UBxnuCJ-vQfzxGYIvt-QikthmInrqeKXAHuvC4odEOa9grmgILZEl300_FPRcuIeXjdITcLQYGWPta8m7_HYxA=\n",
      "wikipedia.org: https://vertexaisearch.cloud.google.com/grounding-api-redirect/AWQVqALFcTS5XO99PIP1u1BLgD40uWkzLT0vcMjDLy4L8kO_iZ-vS6w_B2AfnRsHTPRioOtF42g77Ujn_uWwa_rDFeWApOusWxG1goiIsjNca-9ezhs-XZ3VUn3srNebl4gdeyp53a334VSvABI0KT8vxNWK2NgfX7xchoTBxzkaLx3MdhE=\n",
      "britannica.com: https://vertexaisearch.cloud.google.com/grounding-api-redirect/AWQVqAIZzBJktVawv90fd1ukQvCBVsoqG3Nmlil6fnbVBe3Zu5O35XUNg9KS4J1GO-FMTgQTdY3wZck1yaFNzjS6lgSBbHzyzziBzf12X_VtHu-pwxtEDtTZnGQwaVUid9DNWOdh44Oy\n"
     ]
    }
   ],
   "source": [
    "from pprint import pprint\n",
    "\n",
    "while not rc.grounding_metadata.grounding_supports or not rc.grounding_metadata.grounding_chunks:\n",
    "    # If incomplete grounding data was returned, retry.\n",
    "    rc = query_with_grounding()\n",
    "\n",
    "chunks = rc.grounding_metadata.grounding_chunks\n",
    "for chunk in chunks:\n",
    "    print(f'{chunk.web.title}: {chunk.web.uri}')"
   ]
  },
  {
   "cell_type": "code",
   "execution_count": 4,
   "id": "fcd94309",
   "metadata": {
    "execution": {
     "iopub.execute_input": "2025-04-29T01:45:49.709522Z",
     "iopub.status.busy": "2025-04-29T01:45:49.709288Z",
     "iopub.status.idle": "2025-04-29T01:45:49.713698Z",
     "shell.execute_reply": "2025-04-29T01:45:49.712939Z"
    },
    "papermill": {
     "duration": 0.00837,
     "end_time": "2025-04-29T01:45:49.715031",
     "exception": false,
     "start_time": "2025-04-29T01:45:49.706661",
     "status": "completed"
    },
    "tags": []
   },
   "outputs": [
    {
     "data": {
      "text/html": [
       "<style>\n",
       ".container {\n",
       "  align-items: center;\n",
       "  border-radius: 8px;\n",
       "  display: flex;\n",
       "  font-family: Google Sans, Roboto, sans-serif;\n",
       "  font-size: 14px;\n",
       "  line-height: 20px;\n",
       "  padding: 8px 12px;\n",
       "}\n",
       ".chip {\n",
       "  display: inline-block;\n",
       "  border: solid 1px;\n",
       "  border-radius: 16px;\n",
       "  min-width: 14px;\n",
       "  padding: 5px 16px;\n",
       "  text-align: center;\n",
       "  user-select: none;\n",
       "  margin: 0 8px;\n",
       "  -webkit-tap-highlight-color: transparent;\n",
       "}\n",
       ".carousel {\n",
       "  overflow: auto;\n",
       "  scrollbar-width: none;\n",
       "  white-space: nowrap;\n",
       "  margin-right: -12px;\n",
       "}\n",
       ".headline {\n",
       "  display: flex;\n",
       "  margin-right: 4px;\n",
       "}\n",
       ".gradient-container {\n",
       "  position: relative;\n",
       "}\n",
       ".gradient {\n",
       "  position: absolute;\n",
       "  transform: translate(3px, -9px);\n",
       "  height: 36px;\n",
       "  width: 9px;\n",
       "}\n",
       "@media (prefers-color-scheme: light) {\n",
       "  .container {\n",
       "    background-color: #fafafa;\n",
       "    box-shadow: 0 0 0 1px #0000000f;\n",
       "  }\n",
       "  .headline-label {\n",
       "    color: #1f1f1f;\n",
       "  }\n",
       "  .chip {\n",
       "    background-color: #ffffff;\n",
       "    border-color: #d2d2d2;\n",
       "    color: #5e5e5e;\n",
       "    text-decoration: none;\n",
       "  }\n",
       "  .chip:hover {\n",
       "    background-color: #f2f2f2;\n",
       "  }\n",
       "  .chip:focus {\n",
       "    background-color: #f2f2f2;\n",
       "  }\n",
       "  .chip:active {\n",
       "    background-color: #d8d8d8;\n",
       "    border-color: #b6b6b6;\n",
       "  }\n",
       "  .logo-dark {\n",
       "    display: none;\n",
       "  }\n",
       "  .gradient {\n",
       "    background: linear-gradient(90deg, #fafafa 15%, #fafafa00 100%);\n",
       "  }\n",
       "}\n",
       "@media (prefers-color-scheme: dark) {\n",
       "  .container {\n",
       "    background-color: #1f1f1f;\n",
       "    box-shadow: 0 0 0 1px #ffffff26;\n",
       "  }\n",
       "  .headline-label {\n",
       "    color: #fff;\n",
       "  }\n",
       "  .chip {\n",
       "    background-color: #2c2c2c;\n",
       "    border-color: #3c4043;\n",
       "    color: #fff;\n",
       "    text-decoration: none;\n",
       "  }\n",
       "  .chip:hover {\n",
       "    background-color: #353536;\n",
       "  }\n",
       "  .chip:focus {\n",
       "    background-color: #353536;\n",
       "  }\n",
       "  .chip:active {\n",
       "    background-color: #464849;\n",
       "    border-color: #53575b;\n",
       "  }\n",
       "  .logo-light {\n",
       "    display: none;\n",
       "  }\n",
       "  .gradient {\n",
       "    background: linear-gradient(90deg, #1f1f1f 15%, #1f1f1f00 100%);\n",
       "  }\n",
       "}\n",
       "</style>\n",
       "<div class=\"container\">\n",
       "  <div class=\"headline\">\n",
       "    <svg class=\"logo-light\" width=\"18\" height=\"18\" viewBox=\"9 9 35 35\" fill=\"none\" xmlns=\"http://www.w3.org/2000/svg\">\n",
       "      <path fill-rule=\"evenodd\" clip-rule=\"evenodd\" d=\"M42.8622 27.0064C42.8622 25.7839 42.7525 24.6084 42.5487 23.4799H26.3109V30.1568H35.5897C35.1821 32.3041 33.9596 34.1222 32.1258 35.3448V39.6864H37.7213C40.9814 36.677 42.8622 32.2571 42.8622 27.0064V27.0064Z\" fill=\"#4285F4\"/>\n",
       "      <path fill-rule=\"evenodd\" clip-rule=\"evenodd\" d=\"M26.3109 43.8555C30.9659 43.8555 34.8687 42.3195 37.7213 39.6863L32.1258 35.3447C30.5898 36.3792 28.6306 37.0061 26.3109 37.0061C21.8282 37.0061 18.0195 33.9811 16.6559 29.906H10.9194V34.3573C13.7563 39.9841 19.5712 43.8555 26.3109 43.8555V43.8555Z\" fill=\"#34A853\"/>\n",
       "      <path fill-rule=\"evenodd\" clip-rule=\"evenodd\" d=\"M16.6559 29.8904C16.3111 28.8559 16.1074 27.7588 16.1074 26.6146C16.1074 25.4704 16.3111 24.3733 16.6559 23.3388V18.8875H10.9194C9.74388 21.2072 9.06992 23.8247 9.06992 26.6146C9.06992 29.4045 9.74388 32.022 10.9194 34.3417L15.3864 30.8621L16.6559 29.8904V29.8904Z\" fill=\"#FBBC05\"/>\n",
       "      <path fill-rule=\"evenodd\" clip-rule=\"evenodd\" d=\"M26.3109 16.2386C28.85 16.2386 31.107 17.1164 32.9095 18.8091L37.8466 13.8719C34.853 11.082 30.9659 9.3736 26.3109 9.3736C19.5712 9.3736 13.7563 13.245 10.9194 18.8875L16.6559 23.3388C18.0195 19.2636 21.8282 16.2386 26.3109 16.2386V16.2386Z\" fill=\"#EA4335\"/>\n",
       "    </svg>\n",
       "    <svg class=\"logo-dark\" width=\"18\" height=\"18\" viewBox=\"0 0 48 48\" xmlns=\"http://www.w3.org/2000/svg\">\n",
       "      <circle cx=\"24\" cy=\"23\" fill=\"#FFF\" r=\"22\"/>\n",
       "      <path d=\"M33.76 34.26c2.75-2.56 4.49-6.37 4.49-11.26 0-.89-.08-1.84-.29-3H24.01v5.99h8.03c-.4 2.02-1.5 3.56-3.07 4.56v.75l3.91 2.97h.88z\" fill=\"#4285F4\"/>\n",
       "      <path d=\"M15.58 25.77A8.845 8.845 0 0 0 24 31.86c1.92 0 3.62-.46 4.97-1.31l4.79 3.71C31.14 36.7 27.65 38 24 38c-5.93 0-11.01-3.4-13.45-8.36l.17-1.01 4.06-2.85h.8z\" fill=\"#34A853\"/>\n",
       "      <path d=\"M15.59 20.21a8.864 8.864 0 0 0 0 5.58l-5.03 3.86c-.98-2-1.53-4.25-1.53-6.64 0-2.39.55-4.64 1.53-6.64l1-.22 3.81 2.98.22 1.08z\" fill=\"#FBBC05\"/>\n",
       "      <path d=\"M24 14.14c2.11 0 4.02.75 5.52 1.98l4.36-4.36C31.22 9.43 27.81 8 24 8c-5.93 0-11.01 3.4-13.45 8.36l5.03 3.85A8.86 8.86 0 0 1 24 14.14z\" fill=\"#EA4335\"/>\n",
       "    </svg>\n",
       "    <div class=\"gradient-container\"><div class=\"gradient\"></div></div>\n",
       "  </div>\n",
       "  <div class=\"carousel\">\n",
       "    <a class=\"chip\" href=\"https://vertexaisearch.cloud.google.com/grounding-api-redirect/AWQVqAI_EH4iwVTw2-Tv-KDq8FUtWwjWSp5U3fT0wnf7weffwltWJRvSY6r_NrL6kGnAhi_qHtIRI20OfKwIWT7xsoFiD2l5N9whCVqVHRiBVjrNNTPs7a6II0JHedi32Xpbnx7snjpXO-srTtgt3FPbB3qUwLgH7frBxDNf-RHIORfTpDHWT23snIAU4YPxDGVU3Ica\">Taj Mahal facts</a>\n",
       "    <a class=\"chip\" href=\"https://vertexaisearch.cloud.google.com/grounding-api-redirect/AWQVqAJaXp4EqlfUdkT6F9gzT_bObSw7dEaiLbVz3akj5D8rw49QKCtn-GB4MJj467C5tetB-JcYPmP8m5Bp36SkG5uuYaZacXCsJvylxL5-_8VGsoks2q8FqmebcfnoBtAs8jGzeUfPXM_VKj-7CxBep0HihJs3P9Z33ua5rHVMxhdQROm2gvJQIgOg6LCoz10aaHEgins=\">Taj Mahal history</a>\n",
       "  </div>\n",
       "</div>\n"
      ],
      "text/plain": [
       "<IPython.core.display.HTML object>"
      ]
     },
     "execution_count": 4,
     "metadata": {},
     "output_type": "execute_result"
    }
   ],
   "source": [
    "HTML(rc.grounding_metadata.search_entry_point.rendered_content)"
   ]
  },
  {
   "cell_type": "code",
   "execution_count": 5,
   "id": "212f020e",
   "metadata": {
    "execution": {
     "iopub.execute_input": "2025-04-29T01:45:49.720655Z",
     "iopub.status.busy": "2025-04-29T01:45:49.720455Z",
     "iopub.status.idle": "2025-04-29T01:45:49.748586Z",
     "shell.execute_reply": "2025-04-29T01:45:49.742608Z"
    },
    "papermill": {
     "duration": 0.032721,
     "end_time": "2025-04-29T01:45:49.750256",
     "exception": false,
     "start_time": "2025-04-29T01:45:49.717535",
     "status": "completed"
    },
    "tags": []
   },
   "outputs": [
    {
     "name": "stdout",
     "output_type": "stream",
     "text": [
      "{'confidence_scores': [0.607901, 0.98561597, 0.8753154],\n",
      " 'grounding_chunk_indices': [0, 1, 2],\n",
      " 'segment': {'end_index': 237,\n",
      "             'part_index': None,\n",
      "             'start_index': 174,\n",
      "             'text': '*   **Commissioned by:** The Mughal emperor Shah Jahan '\n",
      "                     'in 1631.'}}\n",
      "{'confidence_scores': [0.88818276],\n",
      " 'grounding_chunk_indices': [1],\n",
      " 'segment': {'end_index': 365,\n",
      "             'part_index': None,\n",
      "             'start_index': 238,\n",
      "             'text': '*   **Purpose:** To house the tomb of his favorite wife, '\n",
      "                     'Mumtaz Mahal, who died in 1631 while giving birth to '\n",
      "                     'their 14th child.'}}\n",
      "{'confidence_scores': [0.7927082, 0.6976934, 0.977131, 0.99287367, 0.9444134],\n",
      " 'grounding_chunk_indices': [3, 4, 5, 1, 6],\n",
      " 'segment': {'end_index': 417,\n",
      "             'part_index': None,\n",
      "             'start_index': 366,\n",
      "             'text': '*   **Construction:** Construction started in 1632.'}}\n",
      "{'confidence_scores': [0.9222634],\n",
      " 'grounding_chunk_indices': [4],\n",
      " 'segment': {'end_index': 523,\n",
      "             'part_index': None,\n",
      "             'start_index': 418,\n",
      "             'text': 'The mausoleum was largely completed by 1643, but work on '\n",
      "                     'other parts of the complex continued until 1653.'}}\n",
      "{'confidence_scores': [0.9927845, 0.9851591],\n",
      " 'grounding_chunk_indices': [4, 1],\n",
      " 'segment': {'end_index': 669,\n",
      "             'part_index': None,\n",
      "             'start_index': 524,\n",
      "             'text': '*   **Cost:** Estimated at the time to be around 32 '\n",
      "                     'million rupees, which would be approximately 52.8 '\n",
      "                     'billion rupees (U.S. $827 million) in 2015.'}}\n",
      "{'confidence_scores': [0.7178178, 0.99108726, 0.7580824],\n",
      " 'grounding_chunk_indices': [0, 4, 1],\n",
      " 'segment': {'end_index': 744,\n",
      "             'part_index': None,\n",
      "             'start_index': 670,\n",
      "             'text': '*   **Artisans:** About 20,000 artisans were employed '\n",
      "                     'during construction.'}}\n",
      "{'confidence_scores': [0.96009934],\n",
      " 'grounding_chunk_indices': [7],\n",
      " 'segment': {'end_index': 869,\n",
      "             'part_index': None,\n",
      "             'start_index': 745,\n",
      "             'text': \"*   **Architecture:** It's considered the best example \"\n",
      "                     'of Mughal architecture, blending Indian, Persian, and '\n",
      "                     'Islamic styles.'}}\n",
      "{'confidence_scores': [0.6596143],\n",
      " 'grounding_chunk_indices': [5],\n",
      " 'segment': {'end_index': 908,\n",
      "             'part_index': None,\n",
      "             'start_index': 870,\n",
      "             'text': \"It's noted for its bilateral symmetry.\"}}\n",
      "{'confidence_scores': [0.8622432, 0.9941367],\n",
      " 'grounding_chunk_indices': [1, 4],\n",
      " 'segment': {'end_index': 1074,\n",
      "             'part_index': None,\n",
      "             'start_index': 909,\n",
      "             'text': '*   **UNESCO World Heritage Site:** Designated in 1983 '\n",
      "                     'as \"the jewel of Muslim art in India and one of the '\n",
      "                     \"universally admired masterpieces of the world's \"\n",
      "                     'heritage.\"'}}\n",
      "{'confidence_scores': [0.9442628],\n",
      " 'grounding_chunk_indices': [4],\n",
      " 'segment': {'end_index': 1134,\n",
      "             'part_index': None,\n",
      "             'start_index': 1075,\n",
      "             'text': '*   **Popularity:** Attracts 7–8 million visitors a '\n",
      "                     'year.'}}\n",
      "{'confidence_scores': [0.98270696],\n",
      " 'grounding_chunk_indices': [5],\n",
      " 'segment': {'end_index': 1288,\n",
      "             'part_index': None,\n",
      "             'start_index': 1135,\n",
      "             'text': '*   **Materials:** Built with brick-in-lime mortar, '\n",
      "                     'veneered with red sandstone and marble, and features '\n",
      "                     'inlay work of precious and semi-precious stones.'}}\n",
      "{'confidence_scores': [0.97418416, 0.97071517],\n",
      " 'grounding_chunk_indices': [4, 1],\n",
      " 'segment': {'end_index': 1392,\n",
      "             'part_index': None,\n",
      "             'start_index': 1289,\n",
      "             'text': '*   **Complex:** The 17-hectare (42-acre) complex '\n",
      "                     'includes a mosque, a guest house, and formal gardens.'}}\n",
      "{'confidence_scores': [0.9285047],\n",
      " 'grounding_chunk_indices': [6],\n",
      " 'segment': {'end_index': 1479,\n",
      "             'part_index': None,\n",
      "             'start_index': 1393,\n",
      "             'text': '*   **Symbolism:** Intended as an earthly replica of '\n",
      "                     \"Mumtaz Mahal's house in paradise.\"}}\n"
     ]
    }
   ],
   "source": [
    "from pprint import pprint\n",
    "import json\n",
    "\n",
    "def serialize(obj):\n",
    "    if hasattr(obj, \"__dict__\"):\n",
    "        return {k: serialize(v) for k, v in vars(obj).items()}\n",
    "    elif isinstance(obj, list):\n",
    "        return [serialize(item) for item in obj]\n",
    "    else:\n",
    "        return obj\n",
    "    \n",
    "supports = rc.grounding_metadata.grounding_supports\n",
    "for support in supports:\n",
    "    pprint(serialize(support))"
   ]
  },
  {
   "cell_type": "code",
   "execution_count": 6,
   "id": "914245ef",
   "metadata": {
    "execution": {
     "iopub.execute_input": "2025-04-29T01:45:49.759753Z",
     "iopub.status.busy": "2025-04-29T01:45:49.759533Z",
     "iopub.status.idle": "2025-04-29T01:45:49.765698Z",
     "shell.execute_reply": "2025-04-29T01:45:49.764969Z"
    },
    "papermill": {
     "duration": 0.011624,
     "end_time": "2025-04-29T01:45:49.766938",
     "exception": false,
     "start_time": "2025-04-29T01:45:49.755314",
     "status": "completed"
    },
    "tags": []
   },
   "outputs": [
    {
     "data": {
      "text/markdown": [
       "Supported text:\n",
       "\n",
       " * *   **Commissioned by:** The Mughal emperor Shah Jahan in 1631.<sup>[1]</sup><sup>[2]</sup><sup>[3]</sup>\n",
       "\n",
       " * *   **Purpose:** To house the tomb of his favorite wife, Mumtaz Mahal, who died in 1631 while giving birth to their 14th child.<sup>[2]</sup>\n",
       "\n",
       " * *   **Construction:** Construction started in 1632.<sup>[4]</sup><sup>[5]</sup><sup>[6]</sup><sup>[2]</sup><sup>[7]</sup>\n",
       "\n",
       " * The mausoleum was largely completed by 1643, but work on other parts of the complex continued until 1653.<sup>[5]</sup>\n",
       "\n",
       " * *   **Cost:** Estimated at the time to be around 32 million rupees, which would be approximately 52.8 billion rupees (U.S. $827 million) in 2015.<sup>[5]</sup><sup>[2]</sup>\n",
       "\n",
       " * *   **Artisans:** About 20,000 artisans were employed during construction.<sup>[1]</sup><sup>[5]</sup><sup>[2]</sup>\n",
       "\n",
       " * *   **Architecture:** It's considered the best example of Mughal architecture, blending Indian, Persian, and Islamic styles.<sup>[8]</sup>\n",
       "\n",
       " * It's noted for its bilateral symmetry.<sup>[6]</sup>\n",
       "\n",
       " * *   **UNESCO World Heritage Site:** Designated in 1983 as \"the jewel of Muslim art in India and one of the universally admired masterpieces of the world's heritage.\"<sup>[2]</sup><sup>[5]</sup>\n",
       "\n",
       " * *   **Popularity:** Attracts 7–8 million visitors a year.\n",
       "*<sup>[5]</sup>\n",
       "\n",
       " *   **Materials:** Built with brick-in-lime mortar, veneered with red sandstone and marble, and features inlay work of precious and semi-precious stones.\n",
       "*<sup>[6]</sup>\n",
       "\n",
       " *   **Complex:** The 17-hectare (42-acre) complex includes a mosque, a guest house, and formal gardens.\n",
       "*<sup>[5]</sup><sup>[2]</sup>\n",
       "\n",
       " *   **Symbolism:** Intended as an earthly replica of Mumtaz Mahal's house in paradise.\n",
       "<sup>[7]</sup>\n",
       "\n",
       "Citations:\n",
       "\n",
       "1. [coolkidfacts.com](https://vertexaisearch.cloud.google.com/grounding-api-redirect/AWQVqAI9HEyvViy2TTF7yAeWptRPMx0z3sBgwDAxSHmD2AUD6D3jveRtCgdRhnKZ84QrYyBkgBM310hP2-2FjddpBalFJClteoKpN2r1ShgCEVaDgyW8zLFxO2N8FT5MFjgiYQn_2CyQZUQo8oe15THPPBnQ)\n",
       "2. [wikipedia.org](https://vertexaisearch.cloud.google.com/grounding-api-redirect/AWQVqAKPOHu3ypavAcFMMbcYukYm0GtPr_NsOC3k3W8MWOhOK-dLRLHPS8biJU9PkTU6OEmKXuGFgnKk44XpHVnY67m9lHMrL2WMYr_CAk2P8-r-vt--W8TCrGabJZipNpkXUyu9)\n",
       "3. [tajmahal.gov.in](https://vertexaisearch.cloud.google.com/grounding-api-redirect/AWQVqAIaqkLn2s6DcbSoatoJxOiiOSS7McWcF96E6PUMmtYIe1VfQPtlDtSq5Qwzu6ezLCXqcbPjn0qgrzAy82biB-jyejq4LOwzzklMXf5spTs3i2SdeHLr86crZnIKh9eWONGTbb2F)\n",
       "4. [tajmahalcabs.com](https://vertexaisearch.cloud.google.com/grounding-api-redirect/AWQVqAJXY2xYAVmZLiZIQumXle5NTgry4ldffJ8NfvxEdnjU2_qSGo923e2nDOJUgisAGAr37Ab1Xw5w4wszPBfavyHQZmPGgYpAOcJdIUXv9p2DNdHc-XMlsE3evZBipU4IyCWn77VTh5dIez5WpjrY3Dp-YboiFkfsGGcloQ==)\n",
       "5. [agra.nic.in](https://vertexaisearch.cloud.google.com/grounding-api-redirect/AWQVqALPn7uE8byp5ToUadh425sxyFEq_MK9R1HHTqJludWt3ETGIvWR8sEKN5CsPhEr_mU03nAEM4W8XM64mgfzzeB_5bh5kEISN6Scmr3L1ssViNTYCb8jH8mZN4h5V7xrRDTAG0c-ZzZvUeya)\n",
       "6. [unesco.org](https://vertexaisearch.cloud.google.com/grounding-api-redirect/AWQVqAJfbJEqFZSygnrMFRBjbXziQts9e40Z1xXsmZ54_UBxnuCJ-vQfzxGYIvt-QikthmInrqeKXAHuvC4odEOa9grmgILZEl300_FPRcuIeXjdITcLQYGWPta8m7_HYxA=)\n",
       "7. [wikipedia.org](https://vertexaisearch.cloud.google.com/grounding-api-redirect/AWQVqALFcTS5XO99PIP1u1BLgD40uWkzLT0vcMjDLy4L8kO_iZ-vS6w_B2AfnRsHTPRioOtF42g77Ujn_uWwa_rDFeWApOusWxG1goiIsjNca-9ezhs-XZ3VUn3srNebl4gdeyp53a334VSvABI0KT8vxNWK2NgfX7xchoTBxzkaLx3MdhE=)\n",
       "8. [britannica.com](https://vertexaisearch.cloud.google.com/grounding-api-redirect/AWQVqAIZzBJktVawv90fd1ukQvCBVsoqG3Nmlil6fnbVBe3Zu5O35XUNg9KS4J1GO-FMTgQTdY3wZck1yaFNzjS6lgSBbHzyzziBzf12X_VtHu-pwxtEDtTZnGQwaVUid9DNWOdh44Oy)\n"
      ],
      "text/plain": [
       "<IPython.core.display.Markdown object>"
      ]
     },
     "execution_count": 6,
     "metadata": {},
     "output_type": "execute_result"
    }
   ],
   "source": [
    "import io\n",
    "\n",
    "markdown_buffer = io.StringIO()\n",
    "\n",
    "# Print the text with footnote markers.\n",
    "markdown_buffer.write(\"Supported text:\\n\\n\")\n",
    "for support in supports:\n",
    "    #pprint(support.segment.text)\n",
    "    markdown_buffer.write(\" * \")\n",
    "    markdown_buffer.write(\n",
    "        rc.content.parts[0].text[support.segment.start_index : support.segment.end_index]\n",
    "    )\n",
    "\n",
    "    for i in support.grounding_chunk_indices:\n",
    "        chunk = chunks[i].web\n",
    "        markdown_buffer.write(f\"<sup>[{i+1}]</sup>\")\n",
    "\n",
    "    markdown_buffer.write(\"\\n\\n\")\n",
    "\n",
    "\n",
    "# And print the footnotes.\n",
    "markdown_buffer.write(\"Citations:\\n\\n\")\n",
    "for i, chunk in enumerate(chunks, start=1):\n",
    "    markdown_buffer.write(f\"{i}. [{chunk.web.title}]({chunk.web.uri})\\n\")\n",
    "\n",
    "\n",
    "Markdown(markdown_buffer.getvalue())\n",
    "\n",
    "# Create a table"
   ]
  }
 ],
 "metadata": {
  "kaggle": {
   "accelerator": "gpu",
   "dataSources": [
    {
     "sourceId": 97258,
     "sourceType": "competition"
    }
   ],
   "dockerImageVersionId": 30918,
   "isGpuEnabled": true,
   "isInternetEnabled": true,
   "language": "python",
   "sourceType": "notebook"
  },
  "kernelspec": {
   "display_name": "Python 3",
   "language": "python",
   "name": "python3"
  },
  "language_info": {
   "codemirror_mode": {
    "name": "ipython",
    "version": 3
   },
   "file_extension": ".py",
   "mimetype": "text/x-python",
   "name": "python",
   "nbconvert_exporter": "python",
   "pygments_lexer": "ipython3",
   "version": "3.10.12"
  },
  "papermill": {
   "default_parameters": {},
   "duration": 8.435895,
   "end_time": "2025-04-29T01:45:50.286386",
   "environment_variables": {},
   "exception": null,
   "input_path": "__notebook__.ipynb",
   "output_path": "__notebook__.ipynb",
   "parameters": {},
   "start_time": "2025-04-29T01:45:41.850491",
   "version": "2.6.0"
  }
 },
 "nbformat": 4,
 "nbformat_minor": 5
}
