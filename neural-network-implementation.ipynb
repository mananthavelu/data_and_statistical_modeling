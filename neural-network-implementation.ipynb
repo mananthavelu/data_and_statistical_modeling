{
 "cells": [
  {
   "cell_type": "code",
   "execution_count": 1,
   "id": "2eca9c0c",
   "metadata": {
    "_cell_guid": "b1076dfc-b9ad-4769-8c92-a6c4dae69d19",
    "_uuid": "8f2839f25d086af736a60e9eeb907d3b93b6e0e5",
    "execution": {
     "iopub.execute_input": "2025-05-01T22:23:40.816889Z",
     "iopub.status.busy": "2025-05-01T22:23:40.816419Z",
     "iopub.status.idle": "2025-05-01T22:23:40.825250Z",
     "shell.execute_reply": "2025-05-01T22:23:40.824306Z"
    },
    "papermill": {
     "duration": 0.015286,
     "end_time": "2025-05-01T22:23:40.827095",
     "exception": false,
     "start_time": "2025-05-01T22:23:40.811809",
     "status": "completed"
    },
    "tags": []
   },
   "outputs": [],
   "source": [
    "# Import needed libraries\n",
    "\n",
    "import numpy as np"
   ]
  },
  {
   "cell_type": "code",
   "execution_count": 2,
   "id": "8ec0e0b4",
   "metadata": {
    "execution": {
     "iopub.execute_input": "2025-05-01T22:23:40.834502Z",
     "iopub.status.busy": "2025-05-01T22:23:40.834223Z",
     "iopub.status.idle": "2025-05-01T22:23:40.839556Z",
     "shell.execute_reply": "2025-05-01T22:23:40.838434Z"
    },
    "papermill": {
     "duration": 0.010893,
     "end_time": "2025-05-01T22:23:40.841385",
     "exception": false,
     "start_time": "2025-05-01T22:23:40.830492",
     "status": "completed"
    },
    "tags": []
   },
   "outputs": [],
   "source": [
    "def sigmoid_activation(z):\n",
    "    function_outcome = 1/(1+np.exp(-z))\n",
    "    print(z, function_outcome)\n",
    "    return function_outcome"
   ]
  },
  {
   "cell_type": "code",
   "execution_count": 3,
   "id": "7876d86b",
   "metadata": {
    "execution": {
     "iopub.execute_input": "2025-05-01T22:23:40.848901Z",
     "iopub.status.busy": "2025-05-01T22:23:40.848520Z",
     "iopub.status.idle": "2025-05-01T22:23:40.855246Z",
     "shell.execute_reply": "2025-05-01T22:23:40.854283Z"
    },
    "papermill": {
     "duration": 0.012417,
     "end_time": "2025-05-01T22:23:40.857044",
     "exception": false,
     "start_time": "2025-05-01T22:23:40.844627",
     "status": "completed"
    },
    "tags": []
   },
   "outputs": [],
   "source": [
    "class NeuralNetwork:\n",
    "\n",
    "    def __init__(self):\n",
    "        # Hyperparameters\n",
    "        self.input_layer_size = 2\n",
    "        self.hidden_layer_size = 3\n",
    "        self.output_layer_size = 1\n",
    "\n",
    "        # Initialization of the parameters/weights\n",
    "        self.W1 = np.random.randn(self.input_layer_size, self.hidden_layer_size)\n",
    "        self.W2 = np.random.randn(self.hidden_layer_size, self.output_layer_size)\n",
    "        \n",
    "    def forward(self, X):\n",
    "        # Propagate inputs through neural network\n",
    "        self.z2 = np.dot(X, self.W1)\n",
    "        self.a2 = self.sigmoid_activation(self.z2)\n",
    "        self.z3 = np.dot(self.a2, self.W2)\n",
    "        y_hat = self.sigmoid_activation(self.z3)\n",
    "        return y_hat\n",
    "\n",
    "    def sigmoid_activation(self, z):\n",
    "        return 1/(1+np.exp(-z))\n",
    "        \n",
    "\n"
   ]
  },
  {
   "cell_type": "code",
   "execution_count": 4,
   "id": "b4840077",
   "metadata": {
    "execution": {
     "iopub.execute_input": "2025-05-01T22:23:40.864279Z",
     "iopub.status.busy": "2025-05-01T22:23:40.863943Z",
     "iopub.status.idle": "2025-05-01T22:23:41.138106Z",
     "shell.execute_reply": "2025-05-01T22:23:41.136798Z"
    },
    "papermill": {
     "duration": 0.279748,
     "end_time": "2025-05-01T22:23:41.139728",
     "exception": false,
     "start_time": "2025-05-01T22:23:40.859980",
     "status": "completed"
    },
    "tags": []
   },
   "outputs": [
    {
     "name": "stdout",
     "output_type": "stream",
     "text": [
      "[-6.   -5.99 -5.98 ...  5.97  5.98  5.99] [0.00247262 0.00249741 0.00252245 ... 0.99745227 0.99747755 0.99750259]\n"
     ]
    },
    {
     "data": {
      "image/png": "[encoded data removed]",
      "text/plain": [
       "<Figure size 640x480 with 1 Axes>"
      ]
     },
     "metadata": {},
     "output_type": "display_data"
    }
   ],
   "source": [
    "import matplotlib.pyplot as plt\n",
    "test_input = np.arange(-6,6,0.01)\n",
    "plt.plot(test_input, sigmoid_activation(test_input), linewidth = 2)\n",
    "plt.grid(True)"
   ]
  },
  {
   "cell_type": "code",
   "execution_count": 5,
   "id": "b89bcabd",
   "metadata": {
    "execution": {
     "iopub.execute_input": "2025-05-01T22:23:41.147913Z",
     "iopub.status.busy": "2025-05-01T22:23:41.147614Z",
     "iopub.status.idle": "2025-05-01T22:23:41.155634Z",
     "shell.execute_reply": "2025-05-01T22:23:41.153943Z"
    },
    "papermill": {
     "duration": 0.014576,
     "end_time": "2025-05-01T22:23:41.157651",
     "exception": false,
     "start_time": "2025-05-01T22:23:41.143075",
     "status": "completed"
    },
    "tags": []
   },
   "outputs": [
    {
     "name": "stdout",
     "output_type": "stream",
     "text": [
      "1 0.7310585786300049\n"
     ]
    },
    {
     "data": {
      "text/plain": [
       "0.7310585786300049"
      ]
     },
     "execution_count": 5,
     "metadata": {},
     "output_type": "execute_result"
    }
   ],
   "source": [
    "sigmoid_activation(1)"
   ]
  },
  {
   "cell_type": "code",
   "execution_count": 6,
   "id": "f87f70f0",
   "metadata": {
    "execution": {
     "iopub.execute_input": "2025-05-01T22:23:41.166327Z",
     "iopub.status.busy": "2025-05-01T22:23:41.166020Z",
     "iopub.status.idle": "2025-05-01T22:23:41.173959Z",
     "shell.execute_reply": "2025-05-01T22:23:41.173135Z"
    },
    "papermill": {
     "duration": 0.014153,
     "end_time": "2025-05-01T22:23:41.175498",
     "exception": false,
     "start_time": "2025-05-01T22:23:41.161345",
     "status": "completed"
    },
    "tags": []
   },
   "outputs": [
    {
     "name": "stdout",
     "output_type": "stream",
     "text": [
      "[1 2 3] [0.73105858 0.88079708 0.95257413]\n"
     ]
    },
    {
     "data": {
      "text/plain": [
       "array([0.73105858, 0.88079708, 0.95257413])"
      ]
     },
     "execution_count": 6,
     "metadata": {},
     "output_type": "execute_result"
    }
   ],
   "source": [
    "sigmoid_activation(np.array([1,2,3]))"
   ]
  },
  {
   "cell_type": "code",
   "execution_count": 7,
   "id": "8010004f",
   "metadata": {
    "execution": {
     "iopub.execute_input": "2025-05-01T22:23:41.186126Z",
     "iopub.status.busy": "2025-05-01T22:23:41.185792Z",
     "iopub.status.idle": "2025-05-01T22:23:41.193819Z",
     "shell.execute_reply": "2025-05-01T22:23:41.192969Z"
    },
    "papermill": {
     "duration": 0.014822,
     "end_time": "2025-05-01T22:23:41.195454",
     "exception": false,
     "start_time": "2025-05-01T22:23:41.180632",
     "status": "completed"
    },
    "tags": []
   },
   "outputs": [
    {
     "name": "stdout",
     "output_type": "stream",
     "text": [
      "[[ 1.21022898 -0.35456672  0.09259343]\n",
      " [ 0.2806338  -0.60161117 -1.5143056 ]\n",
      " [-1.51240365  0.72158194  0.36433851]] [[0.77033946 0.41227544 0.52313183]\n",
      " [0.5697016  0.35397517 0.18030158]\n",
      " [0.18058285 0.67295528 0.59009026]]\n"
     ]
    },
    {
     "data": {
      "text/plain": [
       "array([[0.77033946, 0.41227544, 0.52313183],\n",
       "       [0.5697016 , 0.35397517, 0.18030158],\n",
       "       [0.18058285, 0.67295528, 0.59009026]])"
      ]
     },
     "execution_count": 7,
     "metadata": {},
     "output_type": "execute_result"
    }
   ],
   "source": [
    "sigmoid_activation(np.random.randn(3,3))"
   ]
  },
  {
   "cell_type": "code",
   "execution_count": 8,
   "id": "5392faa8",
   "metadata": {
    "execution": {
     "iopub.execute_input": "2025-05-01T22:23:41.204551Z",
     "iopub.status.busy": "2025-05-01T22:23:41.204196Z",
     "iopub.status.idle": "2025-05-01T22:23:41.209160Z",
     "shell.execute_reply": "2025-05-01T22:23:41.207905Z"
    },
    "papermill": {
     "duration": 0.011043,
     "end_time": "2025-05-01T22:23:41.210622",
     "exception": false,
     "start_time": "2025-05-01T22:23:41.199579",
     "status": "completed"
    },
    "tags": []
   },
   "outputs": [],
   "source": [
    "neural_network = NeuralNetwork()"
   ]
  },
  {
   "cell_type": "code",
   "execution_count": 9,
   "id": "8e2fc9b5",
   "metadata": {
    "execution": {
     "iopub.execute_input": "2025-05-01T22:23:41.219409Z",
     "iopub.status.busy": "2025-05-01T22:23:41.219128Z",
     "iopub.status.idle": "2025-05-01T22:23:41.223685Z",
     "shell.execute_reply": "2025-05-01T22:23:41.222866Z"
    },
    "papermill": {
     "duration": 0.010614,
     "end_time": "2025-05-01T22:23:41.225099",
     "exception": false,
     "start_time": "2025-05-01T22:23:41.214485",
     "status": "completed"
    },
    "tags": []
   },
   "outputs": [],
   "source": [
    "X = np.array(([3,5], [5,1], [10,2]), dtype=float)\n",
    "y_hat = neural_network.forward(X)"
   ]
  },
  {
   "cell_type": "code",
   "execution_count": 10,
   "id": "45a03de7",
   "metadata": {
    "execution": {
     "iopub.execute_input": "2025-05-01T22:23:41.234062Z",
     "iopub.status.busy": "2025-05-01T22:23:41.233763Z",
     "iopub.status.idle": "2025-05-01T22:23:41.240067Z",
     "shell.execute_reply": "2025-05-01T22:23:41.238893Z"
    },
    "papermill": {
     "duration": 0.012743,
     "end_time": "2025-05-01T22:23:41.241700",
     "exception": false,
     "start_time": "2025-05-01T22:23:41.228957",
     "status": "completed"
    },
    "tags": []
   },
   "outputs": [
    {
     "data": {
      "text/plain": [
       "array([[0.28530337],\n",
       "       [0.28425213],\n",
       "       [0.28455204]])"
      ]
     },
     "execution_count": 10,
     "metadata": {},
     "output_type": "execute_result"
    }
   ],
   "source": [
    "y_hat"
   ]
  },
  {
   "cell_type": "markdown",
   "id": "a972a3b6",
   "metadata": {
    "papermill": {
     "duration": 0.003425,
     "end_time": "2025-05-01T22:23:41.249002",
     "exception": false,
     "start_time": "2025-05-01T22:23:41.245577",
     "status": "completed"
    },
    "tags": []
   },
   "source": [
    "### Gradient Descent"
   ]
  },
  {
   "cell_type": "code",
   "execution_count": 11,
   "id": "be1be3b3",
   "metadata": {
    "execution": {
     "iopub.execute_input": "2025-05-01T22:23:41.258236Z",
     "iopub.status.busy": "2025-05-01T22:23:41.257901Z",
     "iopub.status.idle": "2025-05-01T22:23:41.261864Z",
     "shell.execute_reply": "2025-05-01T22:23:41.260999Z"
    },
    "papermill": {
     "duration": 0.010584,
     "end_time": "2025-05-01T22:23:41.263350",
     "exception": false,
     "start_time": "2025-05-01T22:23:41.252766",
     "status": "completed"
    },
    "tags": []
   },
   "outputs": [],
   "source": [
    "# Training a network = minimizing the cost function (by changing the weights)\n",
    "# Curse of dimensionality ( complexity increases with more dimensions)\n",
    "\n",
    "# Derivative : Find the rate of change of cost function/loss with respect to weights\n"
   ]
  },
  {
   "cell_type": "code",
   "execution_count": null,
   "id": "ce5439b5",
   "metadata": {
    "papermill": {
     "duration": 0.00346,
     "end_time": "2025-05-01T22:23:41.270705",
     "exception": false,
     "start_time": "2025-05-01T22:23:41.267245",
     "status": "completed"
    },
    "tags": []
   },
   "outputs": [],
   "source": []
  }
 ],
 "metadata": {
  "kaggle": {
   "accelerator": "none",
   "dataSources": [],
   "dockerImageVersionId": 31012,
   "isGpuEnabled": false,
   "isInternetEnabled": true,
   "language": "python",
   "sourceType": "notebook"
  },
  "kernelspec": {
   "display_name": "Python 3",
   "language": "python",
   "name": "python3"
  },
  "language_info": {
   "codemirror_mode": {
    "name": "ipython",
    "version": 3
   },
   "file_extension": ".py",
   "mimetype": "text/x-python",
   "name": "python",
   "nbconvert_exporter": "python",
   "pygments_lexer": "ipython3",
   "version": "3.11.11"
  },
  "papermill": {
   "default_parameters": {},
   "duration": 6.101221,
   "end_time": "2025-05-01T22:23:41.695128",
   "environment_variables": {},
   "exception": null,
   "input_path": "__notebook__.ipynb",
   "output_path": "__notebook__.ipynb",
   "parameters": {},
   "start_time": "2025-05-01T22:23:35.593907",
   "version": "2.6.0"
  }
 },
 "nbformat": 4,
 "nbformat_minor": 5
}
