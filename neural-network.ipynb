{
 "cells": [
  {
   "cell_type": "code",
   "execution_count": 1,
   "id": "2c86b55c",
   "metadata": {
    "_cell_guid": "b1076dfc-b9ad-4769-8c92-a6c4dae69d19",
    "_uuid": "8f2839f25d086af736a60e9eeb907d3b93b6e0e5",
    "execution": {
     "iopub.execute_input": "2025-05-01T21:27:30.644919Z",
     "iopub.status.busy": "2025-05-01T21:27:30.644331Z",
     "iopub.status.idle": "2025-05-01T21:27:34.696842Z",
     "shell.execute_reply": "2025-05-01T21:27:34.696274Z"
    },
    "papermill": {
     "duration": 4.057586,
     "end_time": "2025-05-01T21:27:34.698282",
     "exception": false,
     "start_time": "2025-05-01T21:27:30.640696",
     "status": "completed"
    },
    "tags": []
   },
   "outputs": [],
   "source": [
    "import torch"
   ]
  },
  {
   "cell_type": "code",
   "execution_count": 2,
   "id": "9e98d79e",
   "metadata": {
    "execution": {
     "iopub.execute_input": "2025-05-01T21:27:34.703442Z",
     "iopub.status.busy": "2025-05-01T21:27:34.703165Z",
     "iopub.status.idle": "2025-05-01T21:27:34.783268Z",
     "shell.execute_reply": "2025-05-01T21:27:34.782648Z"
    },
    "papermill": {
     "duration": 0.083713,
     "end_time": "2025-05-01T21:27:34.784384",
     "exception": false,
     "start_time": "2025-05-01T21:27:34.700671",
     "status": "completed"
    },
    "tags": []
   },
   "outputs": [
    {
     "data": {
      "text/plain": [
       "tensor(0.)"
      ]
     },
     "execution_count": 2,
     "metadata": {},
     "output_type": "execute_result"
    }
   ],
   "source": [
    "def sigmoid_activation(x):\n",
    "    \"\"\" Sigmoid activation function\n",
    "        Arguments:\n",
    "        x: torch.Tensor\n",
    "        returns the pr\n",
    "    \"\"\"\n",
    "    return 1/(1+torch.exp(-x))\n",
    "\n",
    "\n",
    "a = torch.tensor(-15055)\n",
    "\n",
    "sigmoid_activation(a)"
   ]
  },
  {
   "cell_type": "code",
   "execution_count": 3,
   "id": "c4359412",
   "metadata": {
    "execution": {
     "iopub.execute_input": "2025-05-01T21:27:34.789205Z",
     "iopub.status.busy": "2025-05-01T21:27:34.788964Z",
     "iopub.status.idle": "2025-05-01T21:27:34.799615Z",
     "shell.execute_reply": "2025-05-01T21:27:34.799119Z"
    },
    "papermill": {
     "duration": 0.014055,
     "end_time": "2025-05-01T21:27:34.800563",
     "exception": false,
     "start_time": "2025-05-01T21:27:34.786508",
     "status": "completed"
    },
    "tags": []
   },
   "outputs": [
    {
     "data": {
      "text/plain": [
       "<torch._C.Generator at 0x7d10889d41d0>"
      ]
     },
     "execution_count": 3,
     "metadata": {},
     "output_type": "execute_result"
    }
   ],
   "source": [
    "# Generate some random data\n",
    "torch.manual_seed(7)"
   ]
  },
  {
   "cell_type": "code",
   "execution_count": 4,
   "id": "a4c27af2",
   "metadata": {
    "execution": {
     "iopub.execute_input": "2025-05-01T21:27:34.805574Z",
     "iopub.status.busy": "2025-05-01T21:27:34.805149Z",
     "iopub.status.idle": "2025-05-01T21:27:34.813842Z",
     "shell.execute_reply": "2025-05-01T21:27:34.813366Z"
    },
    "papermill": {
     "duration": 0.012261,
     "end_time": "2025-05-01T21:27:34.814889",
     "exception": false,
     "start_time": "2025-05-01T21:27:34.802628",
     "status": "completed"
    },
    "tags": []
   },
   "outputs": [],
   "source": [
    "# Features\n",
    "features = torch.randn((1,5))# Sample input according to the normal distribution, 1 row, 5 columns\n",
    "weights = torch.randn_like(features)# Random weights 1 row, 5 columns\n",
    "bias = torch.randn((1,1))# Bias"
   ]
  },
  {
   "cell_type": "code",
   "execution_count": 5,
   "id": "5f67fe87",
   "metadata": {
    "execution": {
     "iopub.execute_input": "2025-05-01T21:27:34.819970Z",
     "iopub.status.busy": "2025-05-01T21:27:34.819608Z",
     "iopub.status.idle": "2025-05-01T21:27:34.839415Z",
     "shell.execute_reply": "2025-05-01T21:27:34.838854Z"
    },
    "papermill": {
     "duration": 0.023574,
     "end_time": "2025-05-01T21:27:34.840491",
     "exception": false,
     "start_time": "2025-05-01T21:27:34.816917",
     "status": "completed"
    },
    "tags": []
   },
   "outputs": [
    {
     "data": {
      "text/plain": [
       "tensor([[-0.1468,  0.7861,  0.9468, -1.1143,  1.6908]])"
      ]
     },
     "execution_count": 5,
     "metadata": {},
     "output_type": "execute_result"
    }
   ],
   "source": [
    "features"
   ]
  },
  {
   "cell_type": "code",
   "execution_count": 6,
   "id": "244e9176",
   "metadata": {
    "execution": {
     "iopub.execute_input": "2025-05-01T21:27:34.845179Z",
     "iopub.status.busy": "2025-05-01T21:27:34.844954Z",
     "iopub.status.idle": "2025-05-01T21:27:34.849517Z",
     "shell.execute_reply": "2025-05-01T21:27:34.848868Z"
    },
    "papermill": {
     "duration": 0.008022,
     "end_time": "2025-05-01T21:27:34.850552",
     "exception": false,
     "start_time": "2025-05-01T21:27:34.842530",
     "status": "completed"
    },
    "tags": []
   },
   "outputs": [
    {
     "data": {
      "text/plain": [
       "tensor([[-0.8948, -0.3556,  1.2324,  0.1382, -1.6822]])"
      ]
     },
     "execution_count": 6,
     "metadata": {},
     "output_type": "execute_result"
    }
   ],
   "source": [
    "weights"
   ]
  },
  {
   "cell_type": "code",
   "execution_count": 7,
   "id": "d35a3623",
   "metadata": {
    "execution": {
     "iopub.execute_input": "2025-05-01T21:27:34.856629Z",
     "iopub.status.busy": "2025-05-01T21:27:34.856255Z",
     "iopub.status.idle": "2025-05-01T21:27:34.860662Z",
     "shell.execute_reply": "2025-05-01T21:27:34.860149Z"
    },
    "papermill": {
     "duration": 0.008011,
     "end_time": "2025-05-01T21:27:34.861680",
     "exception": false,
     "start_time": "2025-05-01T21:27:34.853669",
     "status": "completed"
    },
    "tags": []
   },
   "outputs": [
    {
     "data": {
      "text/plain": [
       "tensor([[0.3177]])"
      ]
     },
     "execution_count": 7,
     "metadata": {},
     "output_type": "execute_result"
    }
   ],
   "source": [
    "bias"
   ]
  },
  {
   "cell_type": "code",
   "execution_count": 8,
   "id": "53c969f6",
   "metadata": {
    "execution": {
     "iopub.execute_input": "2025-05-01T21:27:34.866934Z",
     "iopub.status.busy": "2025-05-01T21:27:34.866384Z",
     "iopub.status.idle": "2025-05-01T21:27:34.871486Z",
     "shell.execute_reply": "2025-05-01T21:27:34.870803Z"
    },
    "papermill": {
     "duration": 0.008763,
     "end_time": "2025-05-01T21:27:34.872570",
     "exception": false,
     "start_time": "2025-05-01T21:27:34.863807",
     "status": "completed"
    },
    "tags": []
   },
   "outputs": [],
   "source": [
    "y = sigmoid_activation(torch.sum(features*weights) + bias)"
   ]
  },
  {
   "cell_type": "code",
   "execution_count": 9,
   "id": "04c10e14",
   "metadata": {
    "execution": {
     "iopub.execute_input": "2025-05-01T21:27:34.878216Z",
     "iopub.status.busy": "2025-05-01T21:27:34.877834Z",
     "iopub.status.idle": "2025-05-01T21:27:34.882525Z",
     "shell.execute_reply": "2025-05-01T21:27:34.882015Z"
    },
    "papermill": {
     "duration": 0.008605,
     "end_time": "2025-05-01T21:27:34.883529",
     "exception": false,
     "start_time": "2025-05-01T21:27:34.874924",
     "status": "completed"
    },
    "tags": []
   },
   "outputs": [
    {
     "data": {
      "text/plain": [
       "tensor([[0.1595]])"
      ]
     },
     "execution_count": 9,
     "metadata": {},
     "output_type": "execute_result"
    }
   ],
   "source": [
    "y"
   ]
  },
  {
   "cell_type": "code",
   "execution_count": null,
   "id": "85df4897",
   "metadata": {
    "papermill": {
     "duration": 0.002028,
     "end_time": "2025-05-01T21:27:34.887758",
     "exception": false,
     "start_time": "2025-05-01T21:27:34.885730",
     "status": "completed"
    },
    "tags": []
   },
   "outputs": [],
   "source": []
  },
  {
   "cell_type": "code",
   "execution_count": null,
   "id": "425e66fd",
   "metadata": {
    "papermill": {
     "duration": 0.002015,
     "end_time": "2025-05-01T21:27:34.891979",
     "exception": false,
     "start_time": "2025-05-01T21:27:34.889964",
     "status": "completed"
    },
    "tags": []
   },
   "outputs": [],
   "source": []
  }
 ],
 "metadata": {
  "kaggle": {
   "accelerator": "gpu",
   "dataSources": [],
   "dockerImageVersionId": 31011,
   "isGpuEnabled": true,
   "isInternetEnabled": true,
   "language": "python",
   "sourceType": "notebook"
  },
  "kernelspec": {
   "display_name": "Python 3",
   "language": "python",
   "name": "python3"
  },
  "language_info": {
   "codemirror_mode": {
    "name": "ipython",
    "version": 3
   },
   "file_extension": ".py",
   "mimetype": "text/x-python",
   "name": "python",
   "nbconvert_exporter": "python",
   "pygments_lexer": "ipython3",
   "version": "3.11.11"
  },
  "papermill": {
   "default_parameters": {},
   "duration": 9.813602,
   "end_time": "2025-05-01T21:27:36.414728",
   "environment_variables": {},
   "exception": null,
   "input_path": "__notebook__.ipynb",
   "output_path": "__notebook__.ipynb",
   "parameters": {},
   "start_time": "2025-05-01T21:27:26.601126",
   "version": "2.6.0"
  }
 },
 "nbformat": 4,
 "nbformat_minor": 5
}
