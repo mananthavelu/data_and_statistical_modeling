{
  "nbformat": 4,
  "nbformat_minor": 0,
  "metadata": {
    "colab": {
      "provenance": [],
      "authorship_tag": "ABX9TyNB++UgLxVKPbgSpv73JHv+",
      "include_colab_link": true
    },
    "kernelspec": {
      "name": "python3",
      "display_name": "Python 3"
    },
    "language_info": {
      "name": "python"
    }
  },
  "cells": [
    {
      "cell_type": "markdown",
      "metadata": {
        "id": "view-in-github",
        "colab_type": "text"
      },
      "source": [
        "<a href=\"https://colab.research.google.com/github/mananthavelu/data_and_statistical_modeling/blob/main/pytorch_reference.ipynb\" target=\"_parent\"><img src=\"https://colab.research.google.com/assets/colab-badge.svg\" alt=\"Open In Colab\"/></a>"
      ]
    },
    {
      "cell_type": "markdown",
      "source": [
        "#### Tensor Basics"
      ],
      "metadata": {
        "id": "eafg9O9HEnay"
      }
    },
    {
      "cell_type": "code",
      "execution_count": 1,
      "metadata": {
        "id": "T1T1TaKrx1qK",
        "colab": {
          "base_uri": "https://localhost:8080/"
        },
        "outputId": "892fadd2-a080-4219-fc0c-79f1b5c38f63"
      },
      "outputs": [
        {
          "output_type": "stream",
          "name": "stdout",
          "text": [
            "tensor([1, 2, 3, 4, 5])\n",
            "tensor(2)\n",
            "<class 'torch.Tensor'>\n"
          ]
        }
      ],
      "source": [
        "# 0D - 1,2, 0.5\n",
        "# 1D  - [1,2,3,4,5]\n",
        "# 2D - [[1,2,3],[4,5,6]]\n",
        "# Data type - int, float, double, long, short, byte\n",
        "import torch\n",
        "import numpy as np\n",
        "\n",
        "a = torch.tensor([1,2,3,4,5])\n",
        "print(a)\n",
        "print(a[1])\n",
        "print(type(a))\n",
        "\n",
        "b = a.type(torch.float)\n",
        "print(a.ndimension())\n",
        "print(a.size())\n",
        "\n"
      ]
    },
    {
      "cell_type": "code",
      "source": [
        "b = a.type(torch.float)\n",
        "print(a.ndimension())\n",
        "print(a.size())"
      ],
      "metadata": {
        "id": "M2sZzhiHEoyw"
      },
      "execution_count": null,
      "outputs": []
    },
    {
      "cell_type": "code",
      "source": [
        "# Create Tensor from numpy array\n",
        "numpy_array = np.array([1,2,3])\n",
        "tensor_vector = torch.from_numpy(numpy_array)\n",
        "print(type(numpy_array))\n",
        "print(type(tensor_vector))\n",
        "\n",
        "#Back to numpy array\n",
        "np_array = tensor_vector.numpy()\n",
        "print(type(np_array))\n",
        "\n",
        "# From pandas series\n",
        "import pandas as pd\n",
        "pd_series = pd.Series([2,4,5, 0.2])\n",
        "tensor_fr_series = torch.from_numpy(pd_series.values)\n",
        "print(tensor_fr_series.dtype)\n",
        "print(tensor_fr_series.type())"
      ],
      "metadata": {
        "id": "_AaA2bOZExT9"
      },
      "execution_count": null,
      "outputs": []
    },
    {
      "cell_type": "code",
      "source": [
        "a = torch.Tensor([1,2,3,4,5])\n",
        "a_col = a.view(5,1)\n",
        "print(a_col)\n",
        "print(a_col.size())\n",
        "print(a_col.ndimension())"
      ],
      "metadata": {
        "id": "oh1j6BVwE4fT"
      },
      "execution_count": null,
      "outputs": []
    },
    {
      "cell_type": "code",
      "source": [
        "# Vector additions\n",
        "u = torch.Tensor([1,3])\n",
        "v = torch.Tensor([2,4])\n",
        "print(u+v)\n",
        "\n",
        "# Adding constant to a Tensor/Broadcasting\n",
        "u = torch.tensor([1,2,4])\n",
        "v = u + 1\n",
        "print(v)\n",
        "\n",
        "# Vector multiplication with a scalar\n",
        "x = torch.Tensor([1,2])\n",
        "y = torch.Tensor([3,15])\n",
        "z = u + v\n",
        "print(x*y)\n",
        "print(x*2)\n",
        "print(x.T)\n",
        "print(x.size())\n",
        "print(x.T)\n",
        "print(x.T.size())\n",
        "print(x.T*y)\n",
        "print(x.T.dot(y))\n",
        "print(torch.dot(x,y))"
      ],
      "metadata": {
        "id": "GpNzOt1bE4iJ"
      },
      "execution_count": null,
      "outputs": []
    },
    {
      "cell_type": "code",
      "source": [
        "# torch functions\n",
        "sin_u = torch.sin(u)\n",
        "print(sin_u)\n",
        "print(x.mean())\n",
        "print(x.max())\n",
        "\n",
        "\n",
        "# We can also apply functions to Tensors\n",
        "print(torch.linspace(-2,2,steps = 5))# returns evenly spaced numbers"
      ],
      "metadata": {
        "id": "6oAINUGvE9LH"
      },
      "execution_count": null,
      "outputs": []
    },
    {
      "cell_type": "code",
      "source": [
        "# Plot values\n",
        "import matplotlib.pyplot as plt\n",
        "\n",
        "plt.plot(u.numpy(), sin_u.numpy())\n",
        "plt.show()"
      ],
      "metadata": {
        "id": "B0AhtwBAE-wf"
      },
      "execution_count": null,
      "outputs": []
    },
    {
      "cell_type": "code",
      "source": [
        "# Two dimensional tensors\n",
        "\n",
        "a = [[11,12,13],[21,22,23],[31,32,33]]\n",
        "b = [[1,2],[2,4,]]\n",
        "c = [[0,3],[6,1,]]\n",
        "A = torch.tensor(a)\n",
        "\n",
        "print(A)\n",
        "print(A.ndimension())#Gives the number of dimensions\n",
        "print(A.shape)\n",
        "print(A.size())\n",
        "print(A.numel())\n",
        "\n",
        "\n",
        "#Indexing and slicing\n",
        "print(\"Indexing and slicing\")\n",
        "print(A[2][0])#2nd row, 0th column\n",
        "print(A[2,0])#2nd row, 0th column\n",
        "print(A[0,0:2])#Slice 0th row for columns 0 to 2 (excluding)\n",
        "print(A[1:2,2])#Slice rows 1 to 3 (excluding) for columns 2"
      ],
      "metadata": {
        "id": "uPlnZ-nPE-zZ"
      },
      "execution_count": null,
      "outputs": []
    },
    {
      "cell_type": "code",
      "source": [
        "# Tensor operations\n",
        "B  = torch.tensor(b)\n",
        "C  = torch.tensor(c)\n",
        "\n",
        "# Addition\n",
        "print(B)\n",
        "print(C)\n",
        "print(B+C)\n",
        "\n",
        "#Multiplication\n",
        "print(\"Multiplication\")\n",
        "print(2*B)"
      ],
      "metadata": {
        "id": "Dq_kiljfE4lH"
      },
      "execution_count": null,
      "outputs": []
    },
    {
      "cell_type": "code",
      "source": [
        "# Create a tensor\n",
        "\n",
        "x = torch.tensor(2.0, requires_grad=True)\n",
        "print(x)\n",
        "x.shape\n",
        "x.size()\n",
        "x.ndimension()\n",
        "x.ndim"
      ],
      "metadata": {
        "id": "Yn75ZMICFDE8"
      },
      "execution_count": null,
      "outputs": []
    },
    {
      "cell_type": "code",
      "source": [
        "# Equation\n",
        "y = x**2\n",
        "print(y)\n",
        "print(y.ndim)\n",
        "print(x.grad)"
      ],
      "metadata": {
        "id": "UmQ-G4F_FDH_"
      },
      "execution_count": null,
      "outputs": []
    },
    {
      "cell_type": "code",
      "source": [
        "y.backward()"
      ],
      "metadata": {
        "id": "TeIWQ1SQFDK6"
      },
      "execution_count": null,
      "outputs": []
    },
    {
      "cell_type": "code",
      "source": [
        "x.grad"
      ],
      "metadata": {
        "id": "Y9zUEo3WFI__"
      },
      "execution_count": null,
      "outputs": []
    },
    {
      "cell_type": "code",
      "source": [
        "print(x)\n",
        "print(y)"
      ],
      "metadata": {
        "id": "pMURMuDLFJDF"
      },
      "execution_count": null,
      "outputs": []
    },
    {
      "cell_type": "code",
      "source": [
        "print('data:',x.data)\n",
        "print('grad_fn:',x.grad_fn)\n",
        "print('grad:',x.grad)\n",
        "print(\"is_leaf:\",x.is_leaf)\n",
        "print(\"requires_grad:\",x.requires_grad)"
      ],
      "metadata": {
        "id": "GY21w-7mFLc4"
      },
      "execution_count": null,
      "outputs": []
    },
    {
      "cell_type": "code",
      "source": [
        "print('data:',y.data)\n",
        "print('grad_fn:',y.grad_fn)\n",
        "print('grad:',y.grad)\n",
        "print(\"is_leaf:\",y.is_leaf)\n",
        "print(\"requires_grad:\",y.requires_grad)"
      ],
      "metadata": {
        "id": "0YguXlB2FLf7"
      },
      "execution_count": null,
      "outputs": []
    },
    {
      "cell_type": "code",
      "source": [
        "# Calculate the y = x^2 + 2x + 1, then find the derivative\n",
        "\n",
        "x = torch.tensor(2.0, requires_grad = True)\n",
        "y = x ** 2 + 2 * x + 1\n",
        "print(\"The result of y = x^2 + 2x + 1: \", y)\n",
        "y.backward()\n",
        "print(\"The dervative at x = 2: \", x.grad)"
      ],
      "metadata": {
        "id": "kL6bz0EVFLi_"
      },
      "execution_count": null,
      "outputs": []
    },
    {
      "cell_type": "code",
      "source": [
        "# Practice: Calculate the derivative of y = 2x^3 + x at x = 1\n",
        "x = torch.tensor(1.0, requires_grad = True)\n",
        "y = 2*x**3 + x\n",
        "y.backward()\n",
        "\n",
        "# Type your code here"
      ],
      "metadata": {
        "id": "Z_fHnzeoFRUV"
      },
      "execution_count": null,
      "outputs": []
    }
  ]
}